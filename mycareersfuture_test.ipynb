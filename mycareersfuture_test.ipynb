{
 "cells": [
  {
   "cell_type": "code",
   "execution_count": 41,
   "metadata": {},
   "outputs": [],
   "source": [
    "from scrapy.selector import Selector\n",
    "import os\n",
    "from selenium import webdriver\n",
    "from time import sleep"
   ]
  },
  {
   "cell_type": "code",
   "execution_count": 42,
   "metadata": {},
   "outputs": [],
   "source": [
    "# url_job = 'https://www.mycareersfuture.sg/job/data-scientist-bigo-technology-214ec56186d2379cc1a2044bcd0a40bf'\n",
    "# url_job = \"https://www.mycareersfuture.sg/job/data-governance-engineer-grabtaxi-holdings-29258e32d96e2557eea2abfea7ab11b1\"\n",
    "# url_job = \"https://www.mycareersfuture.sg/job/head-research-evaluation-asia-save-children-asia-regional-office-b268a9c84d85972fa9eb66595cb2d704\"\n",
    "url_job = \"https://www.mycareersfuture.sg/job/avp-application-developer-legal-compliance-database-132554-credit-suisse-ag-8b33e17baf399fdd3d7df01360516e1a\"\n",
    "\n",
    "url_first_page = 'https://www.mycareersfuture.sg/search?search=data&sortBy=new_posting_date&page=0'"
   ]
  },
  {
   "cell_type": "code",
   "execution_count": 43,
   "metadata": {
    "scrolled": true
   },
   "outputs": [],
   "source": [
    "chromedriver = \"D:\\GA\\project_submission\\project-4\\chromedriver\\chromedriver.exe\"\n",
    "os.environ[\"webdriver.chrome.driver\"] = chromedriver\n",
    "driver = webdriver.Chrome(executable_path=\".\\chromedriver\\chromedriver.exe\")\n"
   ]
  },
  {
   "cell_type": "code",
   "execution_count": 39,
   "metadata": {},
   "outputs": [],
   "source": [
    "\n",
    "driver.get(url_job)\n",
    "sleep(2)\n",
    "company_name = Selector(text=driver.page_source).xpath('//p[@name=\"company\"]/text()').extract()\n",
    "job_title = Selector(text=driver.page_source).xpath('//*[@id=\"job_title\"]/text()').extract()\n",
    "job_location = Selector(text=driver.page_source).xpath('//p[@id=\"address\"]/a/text()').extract()\n",
    "job_type = Selector(text=driver.page_source).xpath('//p[@id=\"employment_type\"]/text()').extract()\n",
    "job_level = Selector(text=driver.page_source).xpath('//p[@id=\"seniority\"]/text()').extract()\n",
    "job_experience = Selector(text=driver.page_source).xpath('//p[@id=\"min_experience\"]/text()').extract()\n",
    "job_categories = Selector(text=driver.page_source).xpath('//p[@id=\"job-categories\"]/text()').extract()\n",
    "job_salaries_min = Selector(text=driver.page_source).xpath('//span[@class=\"dib\"]/text()').extract()[0]\n",
    "job_salaries_max = Selector(text=driver.page_source).xpath('//span[@class=\"dib\"]/text()').extract()[1]\n",
    "job_salaries_type = Selector(text=driver.page_source).xpath('//span[contains(@class,\"salary_type\")]/text()').extract()[0]\n",
    "job_role_resp = Selector(text=driver.page_source).xpath('//div[@id=\"description-content\"]//text()').extract()\n",
    "job_role_resp = [ele.strip() for ele in job_role_resp if ele.strip() !='']\n",
    "job_requirement = Selector(text=driver.page_source).xpath('//div[@id=\"requirements-content\"]//text()').extract()\n",
    "job_requirement = [ele.strip() for ele in job_requirement if ele.strip() !='']\n",
    "job_skills = Selector(text=driver.page_source).xpath('//label[contains(@class, \"br-pill\")]/text()').extract()\n",
    "\n"
   ]
  },
  {
   "cell_type": "code",
   "execution_count": 40,
   "metadata": {},
   "outputs": [
    {
     "data": {
      "text/plain": [
       "(['CREDIT SUISSE AG'],\n",
       " ['AVP - Application Developer for Legal & Compliance Database #132554'],\n",
       " ['ONE RAFFLES LINK, 1 RAFFLES LINK 039393'],\n",
       " ['Permanent, Full Time'],\n",
       " ['Senior Executive'],\n",
       " [],\n",
       " ['Banking and Finance'],\n",
       " '$8,000',\n",
       " '$14,000',\n",
       " 'Monthly',\n",
       " ['AVP - Application Developer for Legal & Compliance Database #132554',\n",
       "  'Credit Suisse Company Overview',\n",
       "  \"Credit Suisse is a leading global wealth manager with strong investment banking and asset management capabilities. Founded in 1856, Credit Suisse has expanded to be a global force employing over 45,000 people in 50 countries. With new leadership, a new strategy and a streamlined global organization, we are set for growth. We partner across businesses, divisions and regions to create innovative solutions to meet the needs of our clients—and to help our employees grow. It is a high priority for us to continually invest in our employees by providing ongoing opportunities for training, networking and mobility. Join us and let's shape the future of Credit Suisse together.\",\n",
       "  'Further information can be found at',\n",
       "  'www.credit-suisse.com',\n",
       "  'We Offer…',\n",
       "  'The LCDB Platform collects and organizes all position, trade, and reference data from all front office product lines and prepares the data for processing by Compliance Control Room applications and Trade Surveillance applications.',\n",
       "  'Disruption in the stability / availability of LCDB would be extremely detrimental to CS Compliance and potentially cause compliance issue detection failures, and incomplete or incorrect reports to regulators. These failures could result in reputational loss as well as subject CS to penalties.',\n",
       "  'Provide overall support to the LCDB batches that collect and organizes all position, trade, and reference data from all Front office product lines.',\n",
       "  'Work closely with the Production Support team and CCRO Control Room Support and Business Analyst teams to resolve urgent investigations on data quality and/or regulatory queries.',\n",
       "  'Analyze user needs and software requirements to determine feasibility of design within time and cost constraints.',\n",
       "  'Coordinate software system installation and monitor equipment functioning to ensure specifications are met.',\n",
       "  'Design, develop and modify software systems, using scientific analysis and mathematical models to predict and measure outcome and consequences of design.'],\n",
       " ['You Offer…',\n",
       "  'Strong knowledge of data warehouse development.',\n",
       "  'Oracle Informatica',\n",
       "  'Previous knowledge of LCDB is a plus.',\n",
       "  'Basic knowledge of computer hardware and software.',\n",
       "  'Verbal and written communication skills, problem solving skills, customer service and interpersonal skills.',\n",
       "  'Basic ability to work independently and manage one’s time.',\n",
       "  'Basic knowledge of design techniques and principles involved in production of drawings and models.',\n",
       "  'EEO statement',\n",
       "  'Credit Suisse is an equal opportunity employer. Welcoming diversity gives us a competitive advantage in the global marketplace and drives our success.'],\n",
       " ['.NET',\n",
       "  'Agile Methodologies',\n",
       "  'ASP.NET',\n",
       "  'C#',\n",
       "  'C++',\n",
       "  'CSS',\n",
       "  'Databases',\n",
       "  'HTML',\n",
       "  'Java',\n",
       "  'JavaScript',\n",
       "  'jQuery',\n",
       "  'Microsoft SQL Server',\n",
       "  'MySQL',\n",
       "  'PHP',\n",
       "  'Software Development',\n",
       "  'SQL',\n",
       "  'Web Applications',\n",
       "  'Web Development',\n",
       "  'Web Services',\n",
       "  'XML'])"
      ]
     },
     "execution_count": 40,
     "metadata": {},
     "output_type": "execute_result"
    }
   ],
   "source": [
    "company_name, job_title, job_location, job_type, job_level, job_experience, \\\n",
    "job_categories, job_salaries_min,job_salaries_max, job_salaries_type, job_role_resp,\\\n",
    "job_requirement,job_skills"
   ]
  },
  {
   "cell_type": "code",
   "execution_count": 58,
   "metadata": {},
   "outputs": [],
   "source": [
    "driver.get(url_first_page)\n",
    "sleep(2)\n",
    "links = Selector(text=driver.page_source).xpath('//div[contains(@id, \"job-card-\")]/div/a/@href').extract()\n"
   ]
  },
  {
   "cell_type": "code",
   "execution_count": 50,
   "metadata": {},
   "outputs": [],
   "source": [
    "masterpage = \"https://www.mycareersfuture.sg\""
   ]
  },
  {
   "cell_type": "code",
   "execution_count": 51,
   "metadata": {},
   "outputs": [
    {
     "data": {
      "text/plain": [
       "'https://www.mycareersfuture.sg/job/data-engineer-machspeed-human-resources-6151ed07ab7631ad36ba0b3b6addcfc9'"
      ]
     },
     "execution_count": 51,
     "metadata": {},
     "output_type": "execute_result"
    }
   ],
   "source": [
    "masterpage+links[0]"
   ]
  },
  {
   "cell_type": "code",
   "execution_count": 48,
   "metadata": {
    "scrolled": false
   },
   "outputs": [
    {
     "data": {
      "text/plain": [
       "['/job/data-engineer-machspeed-human-resources-6151ed07ab7631ad36ba0b3b6addcfc9',\n",
       " '/job/customer-engagement-excellence-learning-manager-bayer-a57612b2afdd04c65d22496856d86315',\n",
       " '/job/manager-research-group-one-holdings-0996fbed878ce98ca79dfcc479b7a7b8',\n",
       " '/job/head-research-evaluation-asia-save-children-asia-regional-office-b268a9c84d85972fa9eb66595cb2d704',\n",
       " '/job/systems-adminstrator-elixir-technology-86d4b8dcfad54c0448b1deeb2d70c16f',\n",
       " '/job/consumer-marketing-insights-analyst-lourdes-gavin-907b7dd997129be2930f46b44612757f',\n",
       " '/job/product-marketing-executive-sato-asia-pacific-5baa506229f2cfb448e4aa0140976b12',\n",
       " '/job/sales-exec-senior-sales-exec-sales-manager-oaktree-consulting-86ff2f1a5ac78bdb3e5fd4fdb3c053fb',\n",
       " '/job/purchaser-nippon-builders-c731342429ecd576f0fd05212ce7c6dc',\n",
       " '/job/geotechnical-engineer-woh-hup-3298fdd96ffd5a02299b1284052875f1',\n",
       " '/job/technical-services-specialist-elixir-technology-78db99c8f0ffe5a6f9c9a5f625f7091a',\n",
       " '/job/senior-manager-quality-control-creative-flavours-fragrances-44d1d3f9c1351046dfa778d415b670f9',\n",
       " '/job/senior-recruiter-splunk-services-singapore-a80550d5b614836f8aedfa4fd541af33',\n",
       " '/job/accountant-china-construction-development-d980a41c579cb82a752f07b61ee08665',\n",
       " '/job/accounts-assistant-china-construction-development-1f5c2a03292a22fcbbdaad1dd81a605d',\n",
       " '/job/head-end-user-computing-aea-international-holdings-8984e4add828a061bcafdc64d2961746',\n",
       " '/job/sea-payroll-project-manager-air-liquide-industrial-services-a1054cb7e5fb7b3e142f71e935010b66',\n",
       " '/job/accounts-officer-machspeed-human-resources-b0a1b5b0fcca35bd3c0007d505dc1126',\n",
       " '/job/engineering-assistant-qa-machspeed-human-resources-f2e8377b3c93b7bcf3631fd86796f5c5',\n",
       " '/job/key-account-manager-machspeed-human-resources-280e3111b03497035ae2a4d99fc6d449']"
      ]
     },
     "execution_count": 48,
     "metadata": {},
     "output_type": "execute_result"
    }
   ],
   "source": [
    "links"
   ]
  },
  {
   "cell_type": "code",
   "execution_count": 59,
   "metadata": {},
   "outputs": [],
   "source": [
    "search_url_base = \"https://www.mycareersfuture.sg/search?search=data&sortBy=new_posting_date&page=\""
   ]
  },
  {
   "cell_type": "code",
   "execution_count": 60,
   "metadata": {},
   "outputs": [],
   "source": [
    "page_current = 0"
   ]
  },
  {
   "cell_type": "code",
   "execution_count": 61,
   "metadata": {},
   "outputs": [
    {
     "data": {
      "text/plain": [
       "'https://www.mycareersfuture.sg/search?search=data&sortBy=new_posting_date&page=0'"
      ]
     },
     "execution_count": 61,
     "metadata": {},
     "output_type": "execute_result"
    }
   ],
   "source": [
    "search_url_base + str(page_current)"
   ]
  },
  {
   "cell_type": "code",
   "execution_count": 63,
   "metadata": {},
   "outputs": [
    {
     "name": "stdout",
     "output_type": "stream",
     "text": [
      "None\n"
     ]
    }
   ],
   "source": [
    "print(driver.get(search_url_base + str(page_current)))"
   ]
  },
  {
   "cell_type": "code",
   "execution_count": 65,
   "metadata": {},
   "outputs": [],
   "source": [
    "driver.get(search_url_base + str(10000))"
   ]
  },
  {
   "cell_type": "code",
   "execution_count": null,
   "metadata": {},
   "outputs": [],
   "source": [
    "masterpage+links[0]"
   ]
  },
  {
   "cell_type": "code",
   "execution_count": 66,
   "metadata": {},
   "outputs": [],
   "source": [
    "links = Selector(text=driver.page_source).xpath('//div[contains(@id, \"job-card-\")]/div/a/@href').extract()"
   ]
  },
  {
   "cell_type": "code",
   "execution_count": 68,
   "metadata": {},
   "outputs": [
    {
     "data": {
      "text/plain": [
       "0"
      ]
     },
     "execution_count": 68,
     "metadata": {},
     "output_type": "execute_result"
    }
   ],
   "source": [
    "len(links)"
   ]
  },
  {
   "cell_type": "code",
   "execution_count": 52,
   "metadata": {},
   "outputs": [],
   "source": [
    "driver.get(masterpage+links[0])\n"
   ]
  },
  {
   "cell_type": "code",
   "execution_count": 49,
   "metadata": {
    "scrolled": true
   },
   "outputs": [
    {
     "data": {
      "text/plain": [
       "'/job/data-engineer-machspeed-human-resources-6151ed07ab7631ad36ba0b3b6addcfc9'"
      ]
     },
     "execution_count": 49,
     "metadata": {},
     "output_type": "execute_result"
    }
   ],
   "source": [
    "links[0]"
   ]
  },
  {
   "cell_type": "code",
   "execution_count": 35,
   "metadata": {},
   "outputs": [],
   "source": [
    "import scrapy\n",
    "\n",
    "class DataJobItem(scrapy.Item):\n",
    "    # Define the fields for your item here like:\n",
    "    # name = scrapy.Field()\n",
    "    job_link = scrapy.Field()\n",
    "    company_name = scrapy.Field()\n",
    "    job_title = scrapy.Field()\n",
    "    job_location = scrapy.Field()\n",
    "    job_type = scrapy.Field()\n",
    "    job_level = scrapy.Field()\n",
    "    job_experience = scrapy.Field()\n",
    "    job_categories = scrapy.Field()\n",
    "    job_salaries_min = scrapy.Field()\n",
    "    job_salaries_max = scrapy.Field()\n",
    "    job_salaries_type = scrapy.Field()\n",
    "    job_role_resp = scrapy.Field()\n",
    "    job_role_resp = scrapy.Field()\n",
    "    job_requirement = scrapy.Field()\n",
    "    job_requirement = scrapy.Field()\n",
    "    job_skills = scrapy.Field()\n"
   ]
  },
  {
   "cell_type": "code",
   "execution_count": 53,
   "metadata": {},
   "outputs": [],
   "source": [
    "import pandas as pd"
   ]
  },
  {
   "cell_type": "code",
   "execution_count": 69,
   "metadata": {},
   "outputs": [],
   "source": [
    "stop = False"
   ]
  },
  {
   "cell_type": "code",
   "execution_count": 74,
   "metadata": {},
   "outputs": [],
   "source": [
    "page_current = 2"
   ]
  },
  {
   "cell_type": "code",
   "execution_count": 75,
   "metadata": {},
   "outputs": [
    {
     "data": {
      "text/plain": [
       "True"
      ]
     },
     "execution_count": 75,
     "metadata": {},
     "output_type": "execute_result"
    }
   ],
   "source": [
    "((not stop) & (page_current<3))"
   ]
  },
  {
   "cell_type": "code",
   "execution_count": null,
   "metadata": {},
   "outputs": [],
   "source": [
    "import scrapy\n",
    "from scrapy.selector import Selector\n",
    "import os\n",
    "from selenium import webdriver\n",
    "from time import sleep\n",
    "\n",
    "class DataJobSpider(scrapy.Spider):\n",
    "    name = \"DataJob\"\n",
    "    allowed_domains = [\"mycareersfuture.sg\"]\n",
    "    start_urls = [\n",
    "        \"https://www.mycareersfuture.sg/search?search=data&sortBy=new_posting_date&page=0\"\n",
    "    ]\n",
    "    \n",
    "    def __init__(self):\n",
    "        chromedriver = \"D:\\GA\\project_submission\\project-4\\chromedriver\\chromedriver.exe\"\n",
    "        os.environ[\"webdriver.chrome.driver\"] = chromedriver\n",
    "        self.driver = webdriver.Chrome(executable_path=\".\\chromedriver\\chromedriver.exe\")\n",
    "\n",
    "\n",
    "    def parse(self, response): # Define parse() function. \n",
    "           \n",
    "        self.driver.get(response.url)\n",
    "        sleep(2)\n",
    "        links = Selector(text=driver.page_source).xpath('//div[contains(@id, \"job-card-\")]/div/a/@href').extract()\n",
    "        print(links)\n",
    "\n",
    "        return items # Shows scraped information as terminal output."
   ]
  }
 ],
 "metadata": {
  "kernelspec": {
   "display_name": "Python 3",
   "language": "python",
   "name": "python3"
  },
  "language_info": {
   "codemirror_mode": {
    "name": "ipython",
    "version": 3
   },
   "file_extension": ".py",
   "mimetype": "text/x-python",
   "name": "python",
   "nbconvert_exporter": "python",
   "pygments_lexer": "ipython3",
   "version": "3.6.7"
  }
 },
 "nbformat": 4,
 "nbformat_minor": 2
}
