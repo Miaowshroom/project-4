{
 "cells": [
  {
   "cell_type": "code",
   "execution_count": 1,
   "metadata": {},
   "outputs": [],
   "source": [
    "from bs4 import BeautifulSoup\n",
    "from scrapy.selector import Selector\n",
    "import requests\n",
    "import os\n",
    "from selenium import webdriver\n",
    "from time import sleep"
   ]
  },
  {
   "cell_type": "code",
   "execution_count": 194,
   "metadata": {},
   "outputs": [],
   "source": [
    "# url_job = 'https://www.mycareersfuture.sg/job/data-scientist-bigo-technology-214ec56186d2379cc1a2044bcd0a40bf'\n",
    "# url_job = \"https://www.mycareersfuture.sg/job/data-governance-engineer-grabtaxi-holdings-29258e32d96e2557eea2abfea7ab11b1\"\n",
    "# url_job = \"https://www.mycareersfuture.sg/job/head-research-evaluation-asia-save-children-asia-regional-office-b268a9c84d85972fa9eb66595cb2d704\"\n",
    "url_job = \"https://www.mycareersfuture.sg/job/data-scientist-observational-pragmatic-research-institute-df79ecd7f5aa72cafe7ef3c21564e8d8\"\n",
    "\n",
    "url_first_page = 'https://www.mycareersfuture.sg/search?search=data&sortBy=new_posting_date&page=0'"
   ]
  },
  {
   "cell_type": "code",
   "execution_count": 195,
   "metadata": {
    "scrolled": true
   },
   "outputs": [],
   "source": [
    "chromedriver = \"D:\\GA\\project_submission\\project-4\\chromedriver\\chromedriver.exe\"\n",
    "os.environ[\"webdriver.chrome.driver\"] = chromedriver\n",
    "driver = webdriver.Chrome(executable_path=\".\\chromedriver\\chromedriver.exe\")\n"
   ]
  },
  {
   "cell_type": "code",
   "execution_count": 196,
   "metadata": {},
   "outputs": [],
   "source": [
    "driver.get(url_job)\n",
    "sleep(2)\n",
    "company_name = Selector(text=driver.page_source).xpath('//p[@name=\"company\"]/text()').extract()\n",
    "job_title = Selector(text=driver.page_source).xpath('//*[@id=\"job_title\"]/text()').extract()\n",
    "job_location = Selector(text=driver.page_source).xpath('//p[@id=\"address\"]/a/text()').extract()\n",
    "job_type = Selector(text=driver.page_source).xpath('//p[@id=\"employment_type\"]/text()').extract()\n",
    "job_level = Selector(text=driver.page_source).xpath('//p[@id=\"seniority\"]/text()').extract()\n",
    "job_experience = Selector(text=driver.page_source).xpath('//p[@id=\"min_experience\"]/text()').extract()\n",
    "job_categories = Selector(text=driver.page_source).xpath('//p[@id=\"job-categories\"]/text()').extract()\n",
    "job_salaries_min = Selector(text=driver.page_source).xpath('//span[@class=\"dib\"]/text()').extract()[0]\n",
    "job_salaries_max = Selector(text=driver.page_source).xpath('//span[@class=\"dib\"]/text()').extract()[1]\n",
    "job_salaries_type = Selector(text=driver.page_source).xpath('//span[contains(@class,\"salary_type\")]/text()').extract()[0]\n",
    "job_role_resp = Selector(text=driver.page_source).xpath('//div[@id=\"description-content\"]//text()').extract()\n",
    "job_role_resp = [ele.strip() for ele in job_role_resp if ele.strip() !='']\n",
    "job_requirement = Selector(text=driver.page_source).xpath('//div[@id=\"requirements-content\"]//text()').extract()\n",
    "job_requirement = [ele.strip() for ele in job_requirement if ele.strip() !='']\n",
    "job_skills = Selector(text=driver.page_source).xpath('//label[contains(@class, \"br-pill\")]/text()').extract()\n",
    "\n"
   ]
  },
  {
   "cell_type": "code",
   "execution_count": 197,
   "metadata": {},
   "outputs": [
    {
     "data": {
      "text/plain": [
       "(['OBSERVATIONAL AND PRAGMATIC RESEARCH INSTITUTE PTE. LTD.'],\n",
       " ['Data Scientist'],\n",
       " ['SOUTHBANK, 883 NORTH BRIDGE ROAD 198785'],\n",
       " ['Permanent, Full Time'],\n",
       " ['Junior Executive'],\n",
       " [],\n",
       " ['Engineering, Information Technology'],\n",
       " '$3,000',\n",
       " '$6,000',\n",
       " 'Monthly',\n",
       " ['The Company',\n",
       "  'OPRI is an academic research institution striving to improve the lives of patients through global research.',\n",
       "  'OPRI has been leading the paradigm shift in real world evidence for the past 12 years, by delivering pragmatic clinical trials, disease registries and\\xa0database research.',\n",
       "  'The Role',\n",
       "  'We are looking for a Data Engineer to work alongside our research, statistical and database teams in the UK, Singapore and Australia (Brisbane). In this position you will gain invaluable experience within an internationally recognised research organisation involved in analysis and dissemination of data from large-scale observational studies and pragmatic randomised controlled trials.',\n",
       "  'The successful candidate will have high attention to detail, strong time management skills, and most importantly experience in the management and engineering of relational databases.',\n",
       "  'Your responsibilities',\n",
       "  'Design, construct, install, test and maintain data collection and management systems:',\n",
       "  'Integrate data management technologies and software engineering tools for custom data collection applications',\n",
       "  'Programming knowledge: Employ a variety of languages and tools (e.g. scripting languages) to combine systems together',\n",
       "  'Ensure seamless integration of data across multiple databases',\n",
       "  'SQL, queries',\n",
       "  'Building APIs for data consumption',\n",
       "  'Integrating external or new datasets into existing data pipelines',\n",
       "  'Continuously monitoring and testing the system to ensure optimized performance',\n",
       "  'Build and maintain data collection platforms for specific organisational projects',\n",
       "  'Set up automated integration processes for Patient Reported Outcomes into various data collection platforms',\n",
       "  'EMR/EDC integration with Registry Database',\n",
       "  'Data collected via Registry EDCs to be uploaded into EMRs',\n",
       "  'Data collected via site specific EMRs/EDCs to be uploaded into Registry EDCs',\n",
       "  'The role is for a permanent full-time position. Salary is dependent on qualifications and experience. Immediate start is available.'],\n",
       " ['Qualifications',\n",
       "  'Bachelor degree in Computer Science, Engineering, Maths or equivalent qualification',\n",
       "  'Required Experience',\n",
       "  'Strong working knowledge of SQL (Essential)',\n",
       "  'Experience working with large databases',\n",
       "  'Preferred Experience',\n",
       "  'Experience of developing and maintaining data dictionaries for databases',\n",
       "  'Knowledge of statistical analysis tools (e.g. R, STATA, SPSS, SAS)',\n",
       "  'Interest and knowledge of epidemiology, public health and clinical research'],\n",
       " ['Access',\n",
       "  'Business Analysis',\n",
       "  'Business Intelligence',\n",
       "  'Data Analysis',\n",
       "  'Database Design',\n",
       "  'Databases',\n",
       "  'HTML',\n",
       "  'Integration',\n",
       "  'Management',\n",
       "  'Microsoft Excel',\n",
       "  'Microsoft SQL Server',\n",
       "  'Process Improvement',\n",
       "  'Program Management',\n",
       "  'Project Management',\n",
       "  'SDLC',\n",
       "  'SharePoint',\n",
       "  'SQL',\n",
       "  'T-SQL',\n",
       "  'Visio',\n",
       "  'Windows'])"
      ]
     },
     "execution_count": 197,
     "metadata": {},
     "output_type": "execute_result"
    }
   ],
   "source": [
    "company_name, job_title, job_location, job_type, job_level, job_experience, \\\n",
    "job_categories, job_salaries_min,job_salaries_max, job_salaries_type, job_role_resp,\\\n",
    "job_requirement,job_skills"
   ]
  },
  {
   "cell_type": "code",
   "execution_count": null,
   "metadata": {},
   "outputs": [],
   "source": []
  }
 ],
 "metadata": {
  "kernelspec": {
   "display_name": "Python 3",
   "language": "python",
   "name": "python3"
  },
  "language_info": {
   "codemirror_mode": {
    "name": "ipython",
    "version": 3
   },
   "file_extension": ".py",
   "mimetype": "text/x-python",
   "name": "python",
   "nbconvert_exporter": "python",
   "pygments_lexer": "ipython3",
   "version": "3.6.7"
  }
 },
 "nbformat": 4,
 "nbformat_minor": 2
}
