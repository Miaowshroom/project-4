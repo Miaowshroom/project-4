{
 "cells": [
  {
   "cell_type": "markdown",
   "metadata": {},
   "source": [
    "# ![](https://ga-dash.s3.amazonaws.com/production/assets/logo-9f88ae6c9c3871690e33280fcf557f33.png) \n",
    "# Project 4: Web Scraping Job Postings\n",
    "\n",
    "## Business Case Overview\n",
    "\n",
    "You're working as a data scientist for a contracting firm that's rapidly expanding. Now that they have their most valuable employee (you!), they need to leverage data to win more contracts. Your firm offers technology and scientific solutions and wants to be competitive in the hiring market. Your principal has two main objectives:\n",
    "\n",
    "   1. Determine the industry factors that are most important in predicting the salary amounts for these data.\n",
    "   2. Determine the factors that distinguish job categories and titles from each other. For example, can required skills accurately predict job title?\n",
    "\n",
    "To limit the scope, your principal has suggested that you *focus on data-related job postings*, e.g. data scientist, data analyst, research scientist, business intelligence, and any others you might think of. You may also want to decrease the scope by *limiting your search to a single region.*\n",
    "\n",
    "Hint: Aggregators like [Indeed.com](https://www.indeed.com) regularly pool job postings from a variety of markets and industries. \n",
    "\n",
    "**Goal:** Scrape your own data from a job aggregation tool like Indeed.com in order to collect the data to best answer these two questions.\n"
   ]
  },
  {
   "cell_type": "markdown",
   "metadata": {},
   "source": [
    "# Job scrapping\n",
    "\n",
    "1. Job are scraped from mycareerfutures.sg\n",
    "2. Job searched with keyword data\n",
    "3. The job scrapping code can be found in the folder datajob\n",
    "4. Totally 4000+ jobs are scrapted\n",
    "5. To match the scope of the project, kept 1000+ jobs that can be determined as data related job from their job title\n"
   ]
  },
  {
   "cell_type": "code",
   "execution_count": 1,
   "metadata": {},
   "outputs": [],
   "source": [
    "import pandas as pd\n",
    "import numpy as np\n",
    "from sklearn.model_selection import train_test_split, cross_val_score, GridSearchCV\n",
    "from sklearn.linear_model import RidgeCV, LassoCV, HuberRegressor, LogisticRegressionCV, LogisticRegression\n",
    "from sklearn.metrics import classification_report, roc_curve, auc, confusion_matrix, make_scorer\n",
    "from sklearn.ensemble import GradientBoostingClassifier, RandomForestClassifier\n",
    "from sklearn.naive_bayes import MultinomialNB\n",
    "from sklearn.preprocessing import StandardScaler\n",
    "from sklearn.feature_extraction.text import CountVectorizer, TfidfVectorizer\n",
    "from nltk.stem import PorterStemmer, SnowballStemmer, WordNetLemmatizer\n",
    "from sklearn.feature_extraction.stop_words import ENGLISH_STOP_WORDS\n",
    "from textblob import TextBlob\n",
    "from imblearn.pipeline import Pipeline as imPipeline\n",
    "from imblearn.over_sampling import SMOTE\n",
    "import seaborn as sns\n",
    "import matplotlib.pyplot as plt\n",
    "import pickle\n",
    "%matplotlib inline\n",
    "sns.set_style('white')"
   ]
  },
  {
   "cell_type": "code",
   "execution_count": 2,
   "metadata": {
    "scrolled": true
   },
   "outputs": [
    {
     "data": {
      "text/html": [
       "<div>\n",
       "<style scoped>\n",
       "    .dataframe tbody tr th:only-of-type {\n",
       "        vertical-align: middle;\n",
       "    }\n",
       "\n",
       "    .dataframe tbody tr th {\n",
       "        vertical-align: top;\n",
       "    }\n",
       "\n",
       "    .dataframe thead th {\n",
       "        text-align: right;\n",
       "    }\n",
       "</style>\n",
       "<table border=\"1\" class=\"dataframe\">\n",
       "  <thead>\n",
       "    <tr style=\"text-align: right;\">\n",
       "      <th></th>\n",
       "      <th>company_name</th>\n",
       "      <th>job_categories</th>\n",
       "      <th>job_experience</th>\n",
       "      <th>job_level</th>\n",
       "      <th>job_link</th>\n",
       "      <th>job_location</th>\n",
       "      <th>job_requirement</th>\n",
       "      <th>job_role_resp</th>\n",
       "      <th>job_salaries_max</th>\n",
       "      <th>job_salaries_min</th>\n",
       "      <th>job_salaries_type</th>\n",
       "      <th>job_skills</th>\n",
       "      <th>job_title</th>\n",
       "      <th>job_type</th>\n",
       "    </tr>\n",
       "  </thead>\n",
       "  <tbody>\n",
       "    <tr>\n",
       "      <th>0</th>\n",
       "      <td>NTT DATA SINGAPORE PTE. LTD.</td>\n",
       "      <td>Banking and Finance, Information Technology</td>\n",
       "      <td>NaN</td>\n",
       "      <td>Manager, Professional</td>\n",
       "      <td>https://www.mycareersfuture.sg/job/project-man...</td>\n",
       "      <td>KEPPEL TOWERS, 10 HOE CHIANG ROAD 089315</td>\n",
       "      <td>Project management,/Scrum Master/Business Anal...</td>\n",
       "      <td>We are looking for versatile project manager w...</td>\n",
       "      <td>$9,200</td>\n",
       "      <td>$7,500</td>\n",
       "      <td>Monthly</td>\n",
       "      <td>Budgets,Business Analysis,Business Development...</td>\n",
       "      <td>Project Manager- Data Security</td>\n",
       "      <td>Contract</td>\n",
       "    </tr>\n",
       "    <tr>\n",
       "      <th>1</th>\n",
       "      <td>NTUC ENTERPRISE CO-OPERATIVE LTD</td>\n",
       "      <td>Education and Training, Information Technology</td>\n",
       "      <td>NaN</td>\n",
       "      <td>Middle Management</td>\n",
       "      <td>https://www.mycareersfuture.sg/job/vice-presid...</td>\n",
       "      <td>NaN</td>\n",
       "      <td>Must be highly technical/strong hardware and s...</td>\n",
       "      <td>COMPANY DESCRIPTION,NTUC Enterprise is the hol...</td>\n",
       "      <td>$13,000</td>\n",
       "      <td>$8,000</td>\n",
       "      <td>Monthly</td>\n",
       "      <td>Business Analysis,Business Intelligence,Data A...</td>\n",
       "      <td>Vice President, Enterprise Data Warehouse</td>\n",
       "      <td>Full Time</td>\n",
       "    </tr>\n",
       "    <tr>\n",
       "      <th>2</th>\n",
       "      <td>BIOFOURMIS SINGAPORE PTE. LTD.</td>\n",
       "      <td>Engineering</td>\n",
       "      <td>NaN</td>\n",
       "      <td>Senior Executive</td>\n",
       "      <td>https://www.mycareersfuture.sg/job/big-data-en...</td>\n",
       "      <td>VISION EXCHANGE, 2 VENTURE DRIVE 608526</td>\n",
       "      <td>~,Advanced working SQL knowledge and experienc...</td>\n",
       "      <td>We are looking for a savvy Data Engineer to jo...</td>\n",
       "      <td>$6,700</td>\n",
       "      <td>$5,200</td>\n",
       "      <td>Monthly</td>\n",
       "      <td>Agile Methodologies,C#,C++,HTML,Integration,Ja...</td>\n",
       "      <td>Big Data Engineer</td>\n",
       "      <td>Permanent</td>\n",
       "    </tr>\n",
       "  </tbody>\n",
       "</table>\n",
       "</div>"
      ],
      "text/plain": [
       "                       company_name  \\\n",
       "0      NTT DATA SINGAPORE PTE. LTD.   \n",
       "1  NTUC ENTERPRISE CO-OPERATIVE LTD   \n",
       "2    BIOFOURMIS SINGAPORE PTE. LTD.   \n",
       "\n",
       "                                   job_categories job_experience  \\\n",
       "0     Banking and Finance, Information Technology            NaN   \n",
       "1  Education and Training, Information Technology            NaN   \n",
       "2                                     Engineering            NaN   \n",
       "\n",
       "               job_level                                           job_link  \\\n",
       "0  Manager, Professional  https://www.mycareersfuture.sg/job/project-man...   \n",
       "1      Middle Management  https://www.mycareersfuture.sg/job/vice-presid...   \n",
       "2       Senior Executive  https://www.mycareersfuture.sg/job/big-data-en...   \n",
       "\n",
       "                               job_location  \\\n",
       "0  KEPPEL TOWERS, 10 HOE CHIANG ROAD 089315   \n",
       "1                                       NaN   \n",
       "2   VISION EXCHANGE, 2 VENTURE DRIVE 608526   \n",
       "\n",
       "                                     job_requirement  \\\n",
       "0  Project management,/Scrum Master/Business Anal...   \n",
       "1  Must be highly technical/strong hardware and s...   \n",
       "2  ~,Advanced working SQL knowledge and experienc...   \n",
       "\n",
       "                                       job_role_resp job_salaries_max  \\\n",
       "0  We are looking for versatile project manager w...           $9,200   \n",
       "1  COMPANY DESCRIPTION,NTUC Enterprise is the hol...          $13,000   \n",
       "2  We are looking for a savvy Data Engineer to jo...           $6,700   \n",
       "\n",
       "  job_salaries_min job_salaries_type  \\\n",
       "0           $7,500           Monthly   \n",
       "1           $8,000           Monthly   \n",
       "2           $5,200           Monthly   \n",
       "\n",
       "                                          job_skills  \\\n",
       "0  Budgets,Business Analysis,Business Development...   \n",
       "1  Business Analysis,Business Intelligence,Data A...   \n",
       "2  Agile Methodologies,C#,C++,HTML,Integration,Ja...   \n",
       "\n",
       "                                   job_title   job_type  \n",
       "0             Project Manager- Data Security   Contract  \n",
       "1  Vice President, Enterprise Data Warehouse  Full Time  \n",
       "2                          Big Data Engineer  Permanent  "
      ]
     },
     "execution_count": 2,
     "metadata": {},
     "output_type": "execute_result"
    }
   ],
   "source": [
    "# load the job scraped from mycareerfuture.sg\n",
    "job_post = pd.read_csv('D:\\GA\\project_submission\\project-4\\datajob\\datajob\\datajob_0430_250pages.csv')\n",
    "job_post.head(3)"
   ]
  },
  {
   "cell_type": "code",
   "execution_count": 3,
   "metadata": {
    "scrolled": true
   },
   "outputs": [
    {
     "data": {
      "text/plain": [
       "(4013, 14)"
      ]
     },
     "execution_count": 3,
     "metadata": {},
     "output_type": "execute_result"
    }
   ],
   "source": [
    "job_post.shape"
   ]
  },
  {
   "cell_type": "code",
   "execution_count": 4,
   "metadata": {},
   "outputs": [
    {
     "data": {
      "text/plain": [
       "company_name           21\n",
       "job_categories          3\n",
       "job_experience       3752\n",
       "job_level              21\n",
       "job_link                0\n",
       "job_location          676\n",
       "job_requirement       108\n",
       "job_role_resp           0\n",
       "job_salaries_max        0\n",
       "job_salaries_min        0\n",
       "job_salaries_type       0\n",
       "job_skills              0\n",
       "job_title              18\n",
       "job_type               12\n",
       "dtype: int64"
      ]
     },
     "execution_count": 4,
     "metadata": {},
     "output_type": "execute_result"
    }
   ],
   "source": [
    "# checking missing data point\n",
    "job_post.isnull().sum()"
   ]
  },
  {
   "cell_type": "code",
   "execution_count": 5,
   "metadata": {},
   "outputs": [],
   "source": [
    "# remove the data without title, without requirement of experience\n",
    "job_post.drop(index=job_post[job_post.job_title.isnull()].index, inplace=True)\n",
    "job_post.drop(index=job_post[job_post.job_level.isnull()].index, inplace=True)"
   ]
  },
  {
   "cell_type": "code",
   "execution_count": 6,
   "metadata": {},
   "outputs": [
    {
     "data": {
      "text/plain": [
       "company_name            3\n",
       "job_categories          0\n",
       "job_experience       3721\n",
       "job_level               0\n",
       "job_link                0\n",
       "job_location          662\n",
       "job_requirement        95\n",
       "job_role_resp           0\n",
       "job_salaries_max        0\n",
       "job_salaries_min        0\n",
       "job_salaries_type       0\n",
       "job_skills              0\n",
       "job_title               0\n",
       "job_type                0\n",
       "dtype: int64"
      ]
     },
     "execution_count": 6,
     "metadata": {},
     "output_type": "execute_result"
    }
   ],
   "source": [
    "# check the missing data point again\n",
    "# since location and experience have a lot of missing data, not going to use it \n",
    "# will use the job level instead of experience\n",
    "job_post.isnull().sum()"
   ]
  },
  {
   "cell_type": "code",
   "execution_count": 7,
   "metadata": {},
   "outputs": [
    {
     "data": {
      "text/plain": [
       "Monthly     3852\n",
       "Annually     130\n",
       "Name: job_salaries_type, dtype: int64"
      ]
     },
     "execution_count": 7,
     "metadata": {},
     "output_type": "execute_result"
    }
   ],
   "source": [
    "# data have salary recorded as monthly and Annaual income\n",
    "job_post.job_salaries_type.value_counts()"
   ]
  },
  {
   "cell_type": "code",
   "execution_count": 8,
   "metadata": {
    "scrolled": true
   },
   "outputs": [],
   "source": [
    "# convert the annaual income to monthly income and covert to int\n",
    "job_post.job_salaries_min = job_post.job_salaries_min.map(lambda x: int(x[1:].replace(',', '')))\n",
    "job_post.job_salaries_max = job_post.job_salaries_max.map(lambda x: int(x[1:].replace(',', '')))\n",
    "\n",
    "job_post.loc[job_post.job_salaries_type=='Annually',['job_salaries_min', 'job_salaries_max']] = job_post.loc[job_post.job_salaries_type=='Annually',['job_salaries_min', 'job_salaries_max']]/12        \n",
    "job_post['job_salaries_mean'] = (job_post.job_salaries_min + job_post.job_salaries_max)/2\n",
    "job_post['job_salaries_range'] = (job_post.job_salaries_max - job_post.job_salaries_min)"
   ]
  },
  {
   "cell_type": "code",
   "execution_count": 9,
   "metadata": {},
   "outputs": [],
   "source": [
    "# drop duplicated data\n",
    "job_post.drop_duplicates(keep='first', inplace=True)\n",
    "job_post.reset_index(drop=True, inplace=True)"
   ]
  },
  {
   "cell_type": "code",
   "execution_count": 10,
   "metadata": {},
   "outputs": [
    {
     "data": {
      "text/plain": [
       "(3970, 16)"
      ]
     },
     "execution_count": 10,
     "metadata": {},
     "output_type": "execute_result"
    }
   ],
   "source": [
    "# finally have job 3970\n",
    "job_post.shape"
   ]
  },
  {
   "cell_type": "markdown",
   "metadata": {},
   "source": [
    "## Label job title"
   ]
  },
  {
   "cell_type": "code",
   "execution_count": 11,
   "metadata": {},
   "outputs": [],
   "source": [
    "# firstly, take a look at what job did we get \n",
    "\n",
    "\n",
    "# setting title stop word, append addtional stop words that do not have direct link to the job title\n",
    "\n",
    "title_stop = list(ENGLISH_STOP_WORDS)\n",
    "title_stop.extend(['3000', '3500', '4000', 'days', 'contract', '1-year', 'orchard', \n",
    "                   'west', 'central', 'week', 'year','i2r','star', 'months','workday', \n",
    "                   'day', 'shift', 'ot', 'joo', 'koon', 'years','xaxis','workforce'])"
   ]
  },
  {
   "cell_type": "code",
   "execution_count": 12,
   "metadata": {},
   "outputs": [],
   "source": [
    "# lemmatizer = WordNetLemmatizer()\n",
    "# stemmer = PorterStemmer()\n",
    "# # lemmatized_title= job_post.job_title.map(lambda x: ' '.join([stemmer.stem(w) for w in TextBlob(x.lower()).words]))"
   ]
  },
  {
   "cell_type": "code",
   "execution_count": 13,
   "metadata": {},
   "outputs": [
    {
     "data": {
      "text/plain": [
       "CountVectorizer(analyzer='word', binary=False, decode_error='strict',\n",
       "        dtype=<class 'numpy.int64'>, encoding='utf-8', input='content',\n",
       "        lowercase=True, max_df=1.0, max_features=None, min_df=13,\n",
       "        ngram_range=(2, 3), preprocessor=None,\n",
       "        stop_words=['most', 'many', 'this', 'ever', 'whatever', 'ourselves', 'ie', 'otherwise', 'our', 'the', 'by', 'out', 'take', 'amoungst', 'whose', 'anyhow', 'upon', 'you', 'seemed', 'bottom', 'three', 'across', 'ltd', 'after', 'an', 'could', 'over', 'hereafter', 'nor', 'put', 'fifty', 'less', 'wherein'...r', 'star', 'months', 'workday', 'day', 'shift', 'ot', 'joo', 'koon', 'years', 'xaxis', 'workforce'],\n",
       "        strip_accents=None, token_pattern='\\\\b[^\\\\d\\\\W_]+\\\\b',\n",
       "        tokenizer=None, vocabulary=None)"
      ]
     },
     "execution_count": 13,
     "metadata": {},
     "output_type": "execute_result"
    }
   ],
   "source": [
    "# count vectorize the job title, with ngram 2 and 3, \n",
    "# searching pattern that not include word start with _ number and also remove special character\n",
    "# min_df 5 or job len/300 choose the larger one\n",
    "countVect = CountVectorizer(ngram_range=(2,3), stop_words=title_stop, token_pattern=r'\\b[^\\d\\W_]+\\b', min_df=max(int(len(job_post)/300), 5))\n",
    "countVect.fit(job_post.job_title)"
   ]
  },
  {
   "cell_type": "code",
   "execution_count": 14,
   "metadata": {},
   "outputs": [
    {
     "data": {
      "text/plain": [
       "software engineer           96\n",
       "data scientist              89\n",
       "data engineer               82\n",
       "project manager             65\n",
       "business analyst            63\n",
       "research fellow             61\n",
       "data analyst                52\n",
       "product manager             49\n",
       "admin assistant             48\n",
       "senior manager              48\n",
       "data analytics              48\n",
       "account manager             48\n",
       "research engineer           45\n",
       "big data                    43\n",
       "accounts executive          41\n",
       "assistant manager           38\n",
       "senior software             36\n",
       "marketing manager           36\n",
       "t o                         36\n",
       "customer service            35\n",
       "research associate          34\n",
       "technology operations       32\n",
       "senior engineer             31\n",
       "network engineer            31\n",
       "accounts assistant          30\n",
       "senior executive            28\n",
       "research assistant          28\n",
       "senior data                 27\n",
       "operations executive        27\n",
       "software developer          26\n",
       "admin executive             25\n",
       "vice president              24\n",
       "senior software engineer    24\n",
       "business development        23\n",
       "key account                 23\n",
       "solution architect          23\n",
       "marketing executive         22\n",
       "senior research             22\n",
       "data science                22\n",
       "senior associate            22\n",
       "key account manager         21\n",
       "administrative assistant    21\n",
       "support engineer            21\n",
       "program manager             20\n",
       "information technology      19\n",
       "engineer senior             19\n",
       "senior consultant           19\n",
       "accounts officer            19\n",
       "river valley                19\n",
       "finance manager             19\n",
       "middle office               18\n",
       "engineer data               17\n",
       "sales admin                 17\n",
       "consumer banking            17\n",
       "operations manager          17\n",
       "development manager         17\n",
       "senior analyst              16\n",
       "human resource              16\n",
       "clinical research           16\n",
       "account executive           16\n",
       "dtype: int64"
      ]
     },
     "execution_count": 14,
     "metadata": {},
     "output_type": "execute_result"
    }
   ],
   "source": [
    "# take a look of the high popular job key words\n",
    "pd.DataFrame(countVect.transform(job_post.job_title).todense(), columns=countVect.get_feature_names()).sum(axis=0).sort_values(ascending=False).head(60)"
   ]
  },
  {
   "cell_type": "code",
   "execution_count": 15,
   "metadata": {},
   "outputs": [],
   "source": [
    "# start to categorize job into different label, initial an empty one\n",
    "job_post['job_label'] = np.nan"
   ]
  },
  {
   "cell_type": "code",
   "execution_count": 16,
   "metadata": {},
   "outputs": [],
   "source": [
    "# taking all researchers jobs with Research, can be from univertiy or industry\n",
    "job_post.loc[job_post.job_title.str.lower().str.contains('research'), 'job_label'] = 'Research'"
   ]
  },
  {
   "cell_type": "code",
   "execution_count": 17,
   "metadata": {},
   "outputs": [],
   "source": [
    "# take data scientist with the following keywords, if labeled before do not label again\n",
    "job_post.loc[job_post.job_title.str.lower().str.contains('data scientist') & job_post.job_label.isnull(), 'job_label'] = 'data_scientist'\n",
    "job_post.loc[job_post.job_title.str.lower().str.contains('data science') & job_post.job_label.isnull(), 'job_label'] = 'data_scientist'\n",
    "job_post.loc[job_post.job_title.str.lower().str.contains('machine learning') & job_post.job_label.isnull(), 'job_label'] = 'data_scientist'\n"
   ]
  },
  {
   "cell_type": "code",
   "execution_count": 18,
   "metadata": {},
   "outputs": [],
   "source": [
    "# taking solution architect with the following keywords, if labeled before do not label again\n",
    "job_post.loc[job_post.job_title.str.lower().str.contains('architect') & job_post.job_label.isnull(), 'job_label'] = 'solution_architect'\n",
    "job_post.loc[job_post.job_title.str.lower().str.contains('architecture') & job_post.job_label.isnull(), 'job_label'] = 'solution_architect'\n",
    "job_post.loc[job_post.job_title.str.lower().str.contains('solution') & job_post.job_label.isnull(), 'job_label'] = 'solution_architect'\n"
   ]
  },
  {
   "cell_type": "code",
   "execution_count": 19,
   "metadata": {},
   "outputs": [],
   "source": [
    "# take data enginner with the following keywords, if labeled before do not label again\n",
    "job_post.loc[job_post.job_title.str.lower().str.contains('data engineer') & job_post.job_label.isnull(), 'job_label'] = 'data_engineer'\n",
    "job_post.loc[job_post.job_title.str.lower().str.contains('data engineering') & job_post.job_label.isnull(), 'job_label'] = 'data_engineer'\n",
    "job_post.loc[job_post.job_title.str.lower().str.contains('data migration') & job_post.job_label.isnull(), 'job_label'] = 'data_engineer'\n",
    "job_post.loc[job_post.job_title.str.lower().str.contains('security') & job_post.job_label.isnull(), 'job_label'] = 'data_engineer'\n",
    "job_post.loc[job_post.job_title.str.lower().str.contains('cloud') & job_post.job_label.isnull(), 'job_label'] = 'data_engineer'\n",
    "job_post.loc[job_post.job_title.str.lower().str.contains('system engineer') & job_post.job_label.isnull(), 'job_label'] = 'data_engineer'\n",
    "job_post.loc[job_post.job_title.str.lower().str.contains('network engineer') & job_post.job_label.isnull(), 'job_label'] = 'data_engineer'\n",
    "\n",
    "\n"
   ]
  },
  {
   "cell_type": "code",
   "execution_count": 20,
   "metadata": {},
   "outputs": [],
   "source": [
    "# take analyst job with the following keywords, if labeled do not label again\n",
    "\n",
    "job_post.loc[job_post.job_title.str.lower().str.contains('data analytics') & job_post.job_label.isnull(), 'job_label'] = 'data_analyst'\n",
    "job_post.loc[job_post.job_title.str.lower().str.contains('data analyst') & job_post.job_label.isnull(), 'job_label'] = 'data_analyst'\n",
    "job_post.loc[job_post.job_title.str.lower().str.contains('data analysis') & job_post.job_label.isnull(), 'job_label'] = 'data_analyst'\n",
    "\n",
    "# data_analyst = job_post[job_post.job_title.str.lower().str.contains('data analytics')]\n",
    "# data_analyst = pd.concat([data_analyst,job_post[job_post.job_title.str.lower().str.contains('data analyst')]])\n",
    "# data_analyst = pd.concat([data_analyst,job_post[job_post.job_title.str.lower().str.contains('data analysis')]])\n",
    "# data_analyst.drop_duplicates(keep='first', inplace=True)\n",
    "\n",
    "\n",
    "# data_analyst.shape"
   ]
  },
  {
   "cell_type": "code",
   "execution_count": 21,
   "metadata": {
    "scrolled": true
   },
   "outputs": [],
   "source": [
    "# taking all other specialized analysis as other analyst, which is not data analyst, if labeled do not label again\n",
    "\n",
    "job_post.loc[job_post.job_title.str.lower().str.contains('analyst') & job_post.job_label.isnull(), 'job_label'] = 'other_analyst'\n",
    "job_post.loc[job_post.job_title.str.lower().str.contains('analysis') & job_post.job_label.isnull(), 'job_label'] = 'other_analyst'\n",
    "job_post.loc[job_post.job_title.str.lower().str.contains('analytics') & job_post.job_label.isnull(), 'job_label'] = 'other_analyst'\n"
   ]
  },
  {
   "cell_type": "code",
   "execution_count": 22,
   "metadata": {},
   "outputs": [],
   "source": [
    "# taking data entry, if labeled do not label again\n",
    "job_post.loc[job_post.job_title.str.lower().str.contains('data entry') & job_post.job_label.isnull(), 'job_label'] = 'entry'\n"
   ]
  },
  {
   "cell_type": "code",
   "execution_count": 23,
   "metadata": {},
   "outputs": [
    {
     "data": {
      "text/plain": [
       "other_analyst         288\n",
       "data_engineer         238\n",
       "Research              236\n",
       "solution_architect    123\n",
       "data_scientist        119\n",
       "data_analyst           81\n",
       "entry                  14\n",
       "Name: job_label, dtype: int64"
      ]
     },
     "execution_count": 23,
     "metadata": {},
     "output_type": "execute_result"
    }
   ],
   "source": [
    "# take a look of the number of job each category\n",
    "job_post.job_label.value_counts()"
   ]
  },
  {
   "cell_type": "code",
   "execution_count": 24,
   "metadata": {},
   "outputs": [],
   "source": [
    "# remove all job post that did not be labeled above\n",
    "q1_jobs = job_post[job_post.job_label.notnull()]"
   ]
  },
  {
   "cell_type": "code",
   "execution_count": 25,
   "metadata": {},
   "outputs": [
    {
     "data": {
      "text/plain": [
       "Text(0.5, 1.0, 'Salary distribution')"
      ]
     },
     "execution_count": 25,
     "metadata": {},
     "output_type": "execute_result"
    },
    {
     "data": {
      "image/png": "[encoded data removed]",
      "text/plain": [
       "<Figure size 432x288 with 1 Axes>"
      ]
     },
     "metadata": {
      "needs_background": "light"
     },
     "output_type": "display_data"
    }
   ],
   "source": [
    "# take a look of the distribution of the salary\n",
    "q1_jobs.job_salaries_mean.hist(bins=40)\n",
    "plt.title('Salary distribution', size=14)"
   ]
  },
  {
   "cell_type": "code",
   "execution_count": 26,
   "metadata": {},
   "outputs": [],
   "source": [
    "# setting the salary category\n",
    "\n",
    "# take the mean and std of the salary\n",
    "salary_mean = q1_jobs.job_salaries_mean.median()\n",
    "salary_mean_std = q1_jobs.job_salaries_mean.std()\n",
    "\n",
    "# set the boundary of each job category\n",
    "middle_salary = [(salary_mean - salary_mean_std/2), (salary_mean + salary_mean_std/2)]"
   ]
  },
  {
   "cell_type": "code",
   "execution_count": 27,
   "metadata": {},
   "outputs": [
    {
     "data": {
      "text/plain": [
       "[4300.015609448624, 7699.984390551376]"
      ]
     },
     "execution_count": 27,
     "metadata": {},
     "output_type": "execute_result"
    }
   ],
   "source": [
    "# 3 salary categories, low, mid, high boundary as below\n",
    "middle_salary"
   ]
  },
  {
   "cell_type": "code",
   "execution_count": 28,
   "metadata": {
    "scrolled": true
   },
   "outputs": [
    {
     "name": "stderr",
     "output_type": "stream",
     "text": [
      "C:\\Users\\huwenmiao\\Anaconda3\\envs\\gadsi36\\lib\\site-packages\\ipykernel_launcher.py:2: SettingWithCopyWarning: \n",
      "A value is trying to be set on a copy of a slice from a DataFrame.\n",
      "Try using .loc[row_indexer,col_indexer] = value instead\n",
      "\n",
      "See the caveats in the documentation: http://pandas.pydata.org/pandas-docs/stable/indexing.html#indexing-view-versus-copy\n",
      "  \n"
     ]
    }
   ],
   "source": [
    "# initial salary category\n",
    "q1_jobs['salary_cate'] = np.nan"
   ]
  },
  {
   "cell_type": "code",
   "execution_count": 29,
   "metadata": {},
   "outputs": [],
   "source": [
    "# define function to set the salary category\n",
    "def salary_to_cate(x, middle_salary = middle_salary ):\n",
    "    if x<middle_salary[0]:\n",
    "        return 0\n",
    "    elif x<middle_salary[1]:\n",
    "        return 1\n",
    "    else:\n",
    "        return 2"
   ]
  },
  {
   "cell_type": "code",
   "execution_count": 30,
   "metadata": {},
   "outputs": [
    {
     "name": "stderr",
     "output_type": "stream",
     "text": [
      "C:\\Users\\huwenmiao\\Anaconda3\\envs\\gadsi36\\lib\\site-packages\\pandas\\core\\generic.py:4405: SettingWithCopyWarning: \n",
      "A value is trying to be set on a copy of a slice from a DataFrame.\n",
      "Try using .loc[row_indexer,col_indexer] = value instead\n",
      "\n",
      "See the caveats in the documentation: http://pandas.pydata.org/pandas-docs/stable/indexing.html#indexing-view-versus-copy\n",
      "  self[name] = value\n"
     ]
    }
   ],
   "source": [
    "# assign salary category\n",
    "q1_jobs.salary_cate = q1_jobs.job_salaries_mean.map(salary_to_cate)"
   ]
  },
  {
   "cell_type": "code",
   "execution_count": 31,
   "metadata": {},
   "outputs": [
    {
     "data": {
      "text/plain": [
       "1    510\n",
       "2    322\n",
       "0    267\n",
       "Name: salary_cate, dtype: int64"
      ]
     },
     "execution_count": 31,
     "metadata": {},
     "output_type": "execute_result"
    }
   ],
   "source": [
    "# take a look at the number of jobs in each category, low 267, mid 510, high 322\n",
    "q1_jobs.salary_cate.value_counts()"
   ]
  },
  {
   "cell_type": "markdown",
   "metadata": {},
   "source": [
    "### QUESTION 1: Factors that impact salary\n",
    "\n",
    "To predict salary you will be building either a classification or regression model, using features like the location, title, and summary of the job. If framing this as a regression problem, you will be estimating the listed salary amounts. You may instead choose to frame this as a classification problem, in which case you will create labels from these salaries (high vs. low salary, for example) according to thresholds (such as median salary).\n",
    "\n",
    "You have learned a variety of new skills and models that may be useful for this problem:\n",
    "- NLP\n",
    "- Unsupervised learning and dimensionality reduction techniques (PCA, clustering)\n",
    "- Ensemble methods and decision tree models\n",
    "- SVM models\n",
    "\n",
    "Whatever you decide to use, the most important thing is to justify your choices and interpret your results. *Communication of your process is key.* Note that most listings **DO NOT** come with salary information. You'll need to able to extrapolate or predict the expected salaries for these listings."
   ]
  },
  {
   "cell_type": "code",
   "execution_count": 32,
   "metadata": {
    "scrolled": true
   },
   "outputs": [
    {
     "data": {
      "text/plain": [
       "Index(['company_name', 'job_categories', 'job_experience', 'job_level',\n",
       "       'job_link', 'job_location', 'job_requirement', 'job_role_resp',\n",
       "       'job_salaries_max', 'job_salaries_min', 'job_salaries_type',\n",
       "       'job_skills', 'job_title', 'job_type', 'job_salaries_mean',\n",
       "       'job_salaries_range', 'job_label', 'salary_cate'],\n",
       "      dtype='object')"
      ]
     },
     "execution_count": 32,
     "metadata": {},
     "output_type": "execute_result"
    }
   ],
   "source": [
    "# take a look of all features\n",
    "q1_jobs.columns"
   ]
  },
  {
   "cell_type": "code",
   "execution_count": 33,
   "metadata": {
    "scrolled": true
   },
   "outputs": [
    {
     "data": {
      "text/plain": [
       "company_name             0\n",
       "job_categories           0\n",
       "job_experience        1033\n",
       "job_level                0\n",
       "job_link                 0\n",
       "job_location           198\n",
       "job_requirement         39\n",
       "job_role_resp            0\n",
       "job_salaries_max         0\n",
       "job_salaries_min         0\n",
       "job_salaries_type        0\n",
       "job_skills               0\n",
       "job_title                0\n",
       "job_type                 0\n",
       "job_salaries_mean        0\n",
       "job_salaries_range       0\n",
       "job_label                0\n",
       "salary_cate              0\n",
       "dtype: int64"
      ]
     },
     "execution_count": 33,
     "metadata": {},
     "output_type": "execute_result"
    }
   ],
   "source": [
    "# check the number of missing data point for each feature\n",
    "q1_jobs.isnull().sum()"
   ]
  },
  {
   "cell_type": "markdown",
   "metadata": {},
   "source": [
    "## The choosen features are: \n",
    "1. job_categories: which industry\n",
    "2. job_level: freash, manager etc\n",
    "3. job_skills: whats the required skills\n",
    "4. job_label: what is the job, data scientist, data entry etc\n",
    "5. job_type: contract, full time, permenent, part-time etc"
   ]
  },
  {
   "cell_type": "code",
   "execution_count": 34,
   "metadata": {
    "scrolled": true
   },
   "outputs": [
    {
     "data": {
      "text/html": [
       "<div>\n",
       "<style scoped>\n",
       "    .dataframe tbody tr th:only-of-type {\n",
       "        vertical-align: middle;\n",
       "    }\n",
       "\n",
       "    .dataframe tbody tr th {\n",
       "        vertical-align: top;\n",
       "    }\n",
       "\n",
       "    .dataframe thead th {\n",
       "        text-align: right;\n",
       "    }\n",
       "</style>\n",
       "<table border=\"1\" class=\"dataframe\">\n",
       "  <thead>\n",
       "    <tr style=\"text-align: right;\">\n",
       "      <th></th>\n",
       "      <th>job_salaries_max</th>\n",
       "      <th>job_salaries_min</th>\n",
       "      <th>job_salaries_mean</th>\n",
       "      <th>job_salaries_range</th>\n",
       "      <th>salary_cate</th>\n",
       "    </tr>\n",
       "    <tr>\n",
       "      <th>job_label</th>\n",
       "      <th></th>\n",
       "      <th></th>\n",
       "      <th></th>\n",
       "      <th></th>\n",
       "      <th></th>\n",
       "    </tr>\n",
       "  </thead>\n",
       "  <tbody>\n",
       "    <tr>\n",
       "      <th>entry</th>\n",
       "      <td>2021.428571</td>\n",
       "      <td>1500.000000</td>\n",
       "      <td>1760.714286</td>\n",
       "      <td>521.428571</td>\n",
       "      <td>0.000000</td>\n",
       "    </tr>\n",
       "    <tr>\n",
       "      <th>Research</th>\n",
       "      <td>6653.735876</td>\n",
       "      <td>3886.539548</td>\n",
       "      <td>5270.137712</td>\n",
       "      <td>2767.196328</td>\n",
       "      <td>0.622881</td>\n",
       "    </tr>\n",
       "    <tr>\n",
       "      <th>data_engineer</th>\n",
       "      <td>8346.158263</td>\n",
       "      <td>5210.840336</td>\n",
       "      <td>6778.499300</td>\n",
       "      <td>3135.317927</td>\n",
       "      <td>1.033613</td>\n",
       "    </tr>\n",
       "    <tr>\n",
       "      <th>data_analyst</th>\n",
       "      <td>8381.728395</td>\n",
       "      <td>5288.135802</td>\n",
       "      <td>6834.932099</td>\n",
       "      <td>3093.592593</td>\n",
       "      <td>1.086420</td>\n",
       "    </tr>\n",
       "    <tr>\n",
       "      <th>other_analyst</th>\n",
       "      <td>8396.829861</td>\n",
       "      <td>5359.280093</td>\n",
       "      <td>6878.054977</td>\n",
       "      <td>3037.549769</td>\n",
       "      <td>1.090278</td>\n",
       "    </tr>\n",
       "    <tr>\n",
       "      <th>data_scientist</th>\n",
       "      <td>9782.408964</td>\n",
       "      <td>6132.997199</td>\n",
       "      <td>7957.703081</td>\n",
       "      <td>3649.411765</td>\n",
       "      <td>1.369748</td>\n",
       "    </tr>\n",
       "    <tr>\n",
       "      <th>solution_architect</th>\n",
       "      <td>11122.178862</td>\n",
       "      <td>6872.894309</td>\n",
       "      <td>8997.536585</td>\n",
       "      <td>4249.284553</td>\n",
       "      <td>1.593496</td>\n",
       "    </tr>\n",
       "  </tbody>\n",
       "</table>\n",
       "</div>"
      ],
      "text/plain": [
       "                    job_salaries_max  job_salaries_min  job_salaries_mean  \\\n",
       "job_label                                                                   \n",
       "entry                    2021.428571       1500.000000        1760.714286   \n",
       "Research                 6653.735876       3886.539548        5270.137712   \n",
       "data_engineer            8346.158263       5210.840336        6778.499300   \n",
       "data_analyst             8381.728395       5288.135802        6834.932099   \n",
       "other_analyst            8396.829861       5359.280093        6878.054977   \n",
       "data_scientist           9782.408964       6132.997199        7957.703081   \n",
       "solution_architect      11122.178862       6872.894309        8997.536585   \n",
       "\n",
       "                    job_salaries_range  salary_cate  \n",
       "job_label                                            \n",
       "entry                       521.428571     0.000000  \n",
       "Research                   2767.196328     0.622881  \n",
       "data_engineer              3135.317927     1.033613  \n",
       "data_analyst               3093.592593     1.086420  \n",
       "other_analyst              3037.549769     1.090278  \n",
       "data_scientist             3649.411765     1.369748  \n",
       "solution_architect         4249.284553     1.593496  "
      ]
     },
     "execution_count": 34,
     "metadata": {},
     "output_type": "execute_result"
    }
   ],
   "source": [
    "# take a look of the salary distribution vs job label\n",
    "# the min, max, mean salary follow the same trend\n",
    "# the range of the salary (max - min) get wider when the salary increased\n",
    "# the job title shall related to the job label, however the need other features to explain the range change\n",
    "q1_jobs.groupby(['job_label']).mean().sort_values(by='job_salaries_max')"
   ]
  },
  {
   "cell_type": "code",
   "execution_count": 35,
   "metadata": {},
   "outputs": [],
   "source": [
    "# since the job post may have multiple job level selected, will need to separate the job levels in the same job post.\n",
    "# we will use a special tokenizer for other multi-selected feature\n",
    "class MyTokenizer(object):\n",
    "    def __call__(self,s):\n",
    "        return  [WordNetLemmatizer().lemmatize(ele.strip()) for ele in s.split(',')]\n"
   ]
  },
  {
   "cell_type": "code",
   "execution_count": 36,
   "metadata": {},
   "outputs": [],
   "source": [
    "# job_level count vectorize to get the job levels\n",
    "job_level_countVect = CountVectorizer(tokenizer=MyTokenizer(), analyzer='word', binary=True)\n",
    "job_level_df= pd.DataFrame(job_level_countVect.fit_transform(q1_jobs.job_level).todense(),columns=job_level_countVect.get_feature_names() )\n"
   ]
  },
  {
   "cell_type": "code",
   "execution_count": 37,
   "metadata": {},
   "outputs": [
    {
     "data": {
      "text/plain": [
       "{'executive': 3,\n",
       " 'fresh/entry level': 0,\n",
       " 'junior executive': 2,\n",
       " 'manager': 6,\n",
       " 'middle management': 7,\n",
       " 'non-executive': 1,\n",
       " 'professional': 5,\n",
       " 'senior executive': 4,\n",
       " 'senior management': 8}"
      ]
     },
     "execution_count": 37,
     "metadata": {},
     "output_type": "execute_result"
    }
   ],
   "source": [
    "# Since we are going to use Salary mean as the target,\n",
    "# if a job post has multiple job level selected, we are going to choose the mean level as the job level for this post\n",
    "\n",
    "# convert the job level to numbers, which follow the general career progression\n",
    "job_level_dict =dict( zip(job_level_countVect.get_feature_names(),[3,0,2,6,7,1,5,4,8]))\n",
    "job_level_dict"
   ]
  },
  {
   "cell_type": "code",
   "execution_count": 38,
   "metadata": {},
   "outputs": [
    {
     "data": {
      "text/plain": [
       "(1099, 8)"
      ]
     },
     "execution_count": 38,
     "metadata": {},
     "output_type": "execute_result"
    }
   ],
   "source": [
    "# separate the job multiple job level and select the mean level\n",
    "job_level_digit = q1_jobs.job_level.map(lambda x: \\\n",
    "                                        np.ceil(np.mean([job_level_dict[ele.strip().lower()] \\\n",
    "                                                       for ele in x.split(',') if ele.strip!=''])))\n",
    "\n",
    "# get dummies and take fresh(0) as reference\n",
    "job_level_df = pd.get_dummies(job_level_digit)\n",
    "job_level_df = job_level_df.drop(columns=[0])\n",
    "job_level_df.reset_index(drop=True, inplace=True)\n",
    "job_level_df.shape"
   ]
  },
  {
   "cell_type": "code",
   "execution_count": 39,
   "metadata": {},
   "outputs": [
    {
     "data": {
      "text/plain": [
       "(1099, 32)"
      ]
     },
     "execution_count": 39,
     "metadata": {},
     "output_type": "execute_result"
    }
   ],
   "source": [
    "# tfidf the job_categories\n",
    "# since one job can be multiple industry related, we are going to allowed multiple job categories for each post\n",
    "job_cate_countVect = TfidfVectorizer(tokenizer=MyTokenizer(), analyzer='word')\n",
    "job_cate_df= pd.DataFrame(job_cate_countVect.fit_transform(q1_jobs.job_categories).todense(),columns=job_cate_countVect.get_feature_names() )\n",
    "job_cate_df.shape"
   ]
  },
  {
   "cell_type": "code",
   "execution_count": 40,
   "metadata": {},
   "outputs": [
    {
     "data": {
      "text/plain": [
       "(1099, 761)"
      ]
     },
     "execution_count": 40,
     "metadata": {},
     "output_type": "execute_result"
    }
   ],
   "source": [
    "# same for the job skill\n",
    "job_skill_countVect = TfidfVectorizer(tokenizer=MyTokenizer(),  analyzer='word')\n",
    "job_skill_df= pd.DataFrame(job_skill_countVect.fit_transform(q1_jobs.job_skills).todense(),columns=job_skill_countVect.get_feature_names() )\n",
    "job_skill_df.shape"
   ]
  },
  {
   "cell_type": "code",
   "execution_count": 41,
   "metadata": {},
   "outputs": [
    {
     "data": {
      "text/plain": [
       "(1099, 8)"
      ]
     },
     "execution_count": 41,
     "metadata": {},
     "output_type": "execute_result"
    }
   ],
   "source": [
    "# job_type just to check which job type the job post have\n",
    "job_type_countVect = CountVectorizer(tokenizer=MyTokenizer(), analyzer='word', binary=True)\n",
    "job_type_df= pd.DataFrame(job_type_countVect.fit_transform(q1_jobs.job_type).todense(),columns=job_type_countVect.get_feature_names() )\n",
    "job_type_df.shape"
   ]
  },
  {
   "cell_type": "code",
   "execution_count": 42,
   "metadata": {},
   "outputs": [
    {
     "data": {
      "text/plain": [
       "(1099, 6)"
      ]
     },
     "execution_count": 42,
     "metadata": {},
     "output_type": "execute_result"
    }
   ],
   "source": [
    "# job_label, one hot code the feature, take data entry job as reference \n",
    "job_label_df = pd.get_dummies(q1_jobs.job_label)\n",
    "job_label_df = job_label_df.drop(columns=['entry'])\n",
    "job_label_df.reset_index(drop=True, inplace=True)\n",
    "job_label_df.shape"
   ]
  },
  {
   "cell_type": "code",
   "execution_count": 43,
   "metadata": {},
   "outputs": [
    {
     "data": {
      "text/plain": [
       "(1099, 815)"
      ]
     },
     "execution_count": 43,
     "metadata": {},
     "output_type": "execute_result"
    }
   ],
   "source": [
    "# concate all featuers\n",
    "X = pd.concat([job_level_df, job_cate_df, job_skill_df,job_type_df, job_label_df], axis=1)\n",
    "X.shape"
   ]
  },
  {
   "cell_type": "code",
   "execution_count": 44,
   "metadata": {},
   "outputs": [],
   "source": [
    "# take job salary_cate as target\n",
    "y = q1_jobs.salary_cate"
   ]
  },
  {
   "cell_type": "code",
   "execution_count": 45,
   "metadata": {},
   "outputs": [],
   "source": [
    "# train test splite\n",
    "X_train, X_test, y_train, y_test = train_test_split(X, y, test_size=0.33, random_state=12)"
   ]
  },
  {
   "cell_type": "code",
   "execution_count": 46,
   "metadata": {},
   "outputs": [
    {
     "name": "stderr",
     "output_type": "stream",
     "text": [
      "C:\\Users\\huwenmiao\\Anaconda3\\envs\\gadsi36\\lib\\site-packages\\sklearn\\preprocessing\\data.py:625: DataConversionWarning: Data with input dtype uint8, int64, float64 were all converted to float64 by StandardScaler.\n",
      "  return self.partial_fit(X, y)\n",
      "C:\\Users\\huwenmiao\\Anaconda3\\envs\\gadsi36\\lib\\site-packages\\sklearn\\base.py:462: DataConversionWarning: Data with input dtype uint8, int64, float64 were all converted to float64 by StandardScaler.\n",
      "  return self.fit(X, **fit_params).transform(X)\n",
      "C:\\Users\\huwenmiao\\Anaconda3\\envs\\gadsi36\\lib\\site-packages\\sklearn\\linear_model\\logistic.py:460: FutureWarning: Default multi_class will be changed to 'auto' in 0.22. Specify the multi_class option to silence this warning.\n",
      "  \"this warning.\", FutureWarning)\n"
     ]
    },
    {
     "name": "stdout",
     "output_type": "stream",
     "text": [
      "              precision    recall  f1-score   support\n",
      "\n",
      "           0       0.76      0.71      0.73        89\n",
      "           1       0.58      0.67      0.62       160\n",
      "           2       0.55      0.46      0.50       114\n",
      "\n",
      "   micro avg       0.61      0.61      0.61       363\n",
      "   macro avg       0.63      0.61      0.62       363\n",
      "weighted avg       0.62      0.61      0.61       363\n",
      "\n"
     ]
    },
    {
     "name": "stderr",
     "output_type": "stream",
     "text": [
      "C:\\Users\\huwenmiao\\Anaconda3\\envs\\gadsi36\\lib\\site-packages\\ipykernel_launcher.py:8: DataConversionWarning: Data with input dtype uint8, int64, float64 were all converted to float64 by StandardScaler.\n",
      "  \n"
     ]
    }
   ],
   "source": [
    "# model 1 logistic regression with standardized features\n",
    "# multiple class, will take the classifcation report as matrix\n",
    "\n",
    "logR = LogisticRegressionCV(class_weight='balanced', penalty='l2', max_iter=5000 , cv=5, scoring='f1_micro')\n",
    "scaler = StandardScaler()\n",
    "X_train_ss = scaler.fit_transform(X_train)\n",
    "logR.fit(X_train_ss, y_train)\n",
    "X_test_ss = scaler.transform(X_test)\n",
    "y_pred = logR.predict(X_test_ss)\n",
    "print(classification_report(y_test, y_pred))"
   ]
  },
  {
   "cell_type": "code",
   "execution_count": 47,
   "metadata": {},
   "outputs": [
    {
     "name": "stdout",
     "output_type": "stream",
     "text": [
      "[ 0.60810811  0.59459459  0.62162162  0.67567568  0.62162162  0.56756757\n",
      "  0.68918919  0.72972973  0.58333333  0.47222222]\n",
      "              precision    recall  f1-score   support\n",
      "\n",
      "           0       0.84      0.55      0.67        89\n",
      "           1       0.55      0.78      0.64       160\n",
      "           2       0.65      0.45      0.53       114\n",
      "\n",
      "   micro avg       0.62      0.62      0.62       363\n",
      "   macro avg       0.68      0.59      0.61       363\n",
      "weighted avg       0.65      0.62      0.61       363\n",
      "\n"
     ]
    }
   ],
   "source": [
    "# model 2 Multinomail Naive bayern \n",
    "\n",
    "MNB = MultinomialNB()\n",
    "print(cross_val_score(MNB, X_train, y_train, cv=10, scoring='f1_micro'))\n",
    "\n",
    "MNB.fit(X_train, y_train)\n",
    "y_pred = MNB.predict(X_test)\n",
    "print(classification_report(y_test, y_pred))"
   ]
  },
  {
   "cell_type": "code",
   "execution_count": 48,
   "metadata": {},
   "outputs": [],
   "source": [
    "# model 3 RandomForestClassifier with SMOTE oversampling\n",
    "# imb_pipleine = imPipeline([('smt', SMOTE()), ('estimator',RandomForestClassifier())])\n",
    "# parameter = {\n",
    "#     'smt__k_neighbors': range(3, 9),\n",
    "#     'smt__sampling_strategy': ['minority'],\n",
    "#     'estimator__class_weight':[{0:1,1:1, 2:1}, {0:1,1:1.5, 2:1.5}, {0:1,1:2, 2:2}, {0:1,1:3, 2:3}, {0:1,1:2, 2:3}, {0:1,1:3, 2:2}],\n",
    "#     'estimator__n_estimators': [ 15, 20, 30, 40, 50, 100],\n",
    "#     'estimator__max_depth': [10, 15, 30, 40, 60, 100],\n",
    "#     'estimator__min_samples_split': [20, 10, 6, 4, 2]\n",
    "# }\n",
    "\n",
    "# imb_pipleine_gs = GridSearchCV(imb_pipleine, parameter,scoring='f1_micro' ,cv=5, verbose=1, n_jobs=4)\n",
    "# imb_pipleine_gs.fit(X_train, y_train)\n",
    "# y_pred = imb_pipleine_gs.predict(X_test)\n",
    "# print(classification_report(y_test, y_pred))"
   ]
  },
  {
   "cell_type": "code",
   "execution_count": 49,
   "metadata": {},
   "outputs": [],
   "source": [
    "# with open('3class_randomF_12.p', 'wb') as f:\n",
    "#     pickle.dump(imb_pipleine_gs, f)"
   ]
  },
  {
   "cell_type": "code",
   "execution_count": 50,
   "metadata": {},
   "outputs": [],
   "source": [
    "with open('3class_randomF_12.p', 'rb') as f:\n",
    "    imb_pipleine_rf_gs = pickle.load(f)"
   ]
  },
  {
   "cell_type": "code",
   "execution_count": 51,
   "metadata": {
    "scrolled": true
   },
   "outputs": [
    {
     "name": "stdout",
     "output_type": "stream",
     "text": [
      "              precision    recall  f1-score   support\n",
      "\n",
      "           0       0.92      0.55      0.69        89\n",
      "           1       0.55      0.91      0.69       160\n",
      "           2       0.70      0.27      0.39       114\n",
      "\n",
      "   micro avg       0.62      0.62      0.62       363\n",
      "   macro avg       0.73      0.58      0.59       363\n",
      "weighted avg       0.69      0.62      0.59       363\n",
      "\n"
     ]
    }
   ],
   "source": [
    "y_pred = imb_pipleine_rf_gs.predict(X_test)\n",
    "print(classification_report(y_test, y_pred))"
   ]
  },
  {
   "cell_type": "code",
   "execution_count": 52,
   "metadata": {},
   "outputs": [],
   "source": [
    "# # model 4 RandomForestClassifier with balanced weight\n",
    "# rf = RandomForestClassifier(class_weight='balanced')\n",
    "# rf_parameter = {'n_estimators': [10, 15, 20, 50,100, 200, 300],\n",
    "#                 'max_depth': [10, 15, 30, 60, 100, 200, 400],\n",
    "#                 'min_samples_split': [20, 10, 6, 4, 2]\n",
    "  \n",
    "# }\n",
    "\n",
    "# rf_gs = GridSearchCV(rf, rf_parameter,scoring='f1_micro' ,cv=5, n_jobs=4, verbose=1)\n",
    "# rf_gs.fit(X_train, y_train)\n",
    "# y_pred = rf_gs.predict(X_test)\n",
    "# print(classification_report(y_test, y_pred))"
   ]
  },
  {
   "cell_type": "code",
   "execution_count": 53,
   "metadata": {},
   "outputs": [],
   "source": [
    "# with open('3class_rf_weight_12.p', 'wb') as f:\n",
    "#     pickle.dump(rf_gs, f)"
   ]
  },
  {
   "cell_type": "code",
   "execution_count": 54,
   "metadata": {},
   "outputs": [],
   "source": [
    "with open('3class_rf_weight_12.p', 'rb') as f:\n",
    "    rf_gs = pickle.load(f)"
   ]
  },
  {
   "cell_type": "code",
   "execution_count": 55,
   "metadata": {},
   "outputs": [
    {
     "name": "stdout",
     "output_type": "stream",
     "text": [
      "              precision    recall  f1-score   support\n",
      "\n",
      "           0       0.79      0.69      0.73        89\n",
      "           1       0.59      0.77      0.67       160\n",
      "           2       0.61      0.42      0.50       114\n",
      "\n",
      "   micro avg       0.64      0.64      0.64       363\n",
      "   macro avg       0.66      0.63      0.63       363\n",
      "weighted avg       0.65      0.64      0.63       363\n",
      "\n"
     ]
    }
   ],
   "source": [
    "y_pred = rf_gs.predict(X_test)\n",
    "print(classification_report(y_test, y_pred))"
   ]
  },
  {
   "cell_type": "code",
   "execution_count": 56,
   "metadata": {},
   "outputs": [],
   "source": [
    "# # model 5 GradientBoostingClassifier with balanced weight\n",
    "\n",
    "# imb_pipleine = imPipeline([('smt', SMOTE()), ('estimator',GradientBoostingClassifier())])\n",
    "\n",
    "# parameter = {\n",
    "#     'estimator__learning_rate': [0.1, 0.5, 1],\n",
    "#     'estimator__max_depth': [20, 50, 70],\n",
    "#     'estimator__max_features': ['auto', 'log2', 0.4],\n",
    "#     'estimator__max_leaf_nodes': [3, 5, 10 ],\n",
    "#     'estimator__min_samples_leaf': [1,3, 5],\n",
    "#     'estimator__min_samples_split': [2, 4, 6],\n",
    "#     'estimator__n_estimators': [ 10, 50, 100]\n",
    "# }\n",
    "\n",
    "# imb_pipleine_gs = GridSearchCV(imb_pipleine, parameter,scoring='f1_micro' ,cv=5, n_jobs=4, verbose=1)\n",
    "# imb_pipleine_gs.fit(X_train, y_train)\n",
    "# y_pred = imb_pipleine_gs.predict(X_test)\n",
    "# print(classification_report(y_test, y_pred))"
   ]
  },
  {
   "cell_type": "code",
   "execution_count": 57,
   "metadata": {},
   "outputs": [],
   "source": [
    "# with open('3class_xgb_12.p', 'wb') as f:\n",
    "#     pickle.dump(imb_pipleine_gs, f)"
   ]
  },
  {
   "cell_type": "code",
   "execution_count": 58,
   "metadata": {},
   "outputs": [],
   "source": [
    "with open('3class_xgb_12.p', 'rb') as f:\n",
    "    imb_pipleine_xgb_gs = pickle.load(f)"
   ]
  },
  {
   "cell_type": "code",
   "execution_count": 59,
   "metadata": {},
   "outputs": [
    {
     "name": "stdout",
     "output_type": "stream",
     "text": [
      "              precision    recall  f1-score   support\n",
      "\n",
      "           0       0.82      0.78      0.80        89\n",
      "           1       0.62      0.71      0.66       160\n",
      "           2       0.63      0.53      0.57       114\n",
      "\n",
      "   micro avg       0.67      0.67      0.67       363\n",
      "   macro avg       0.69      0.67      0.68       363\n",
      "weighted avg       0.67      0.67      0.67       363\n",
      "\n"
     ]
    }
   ],
   "source": [
    "y_pred = imb_pipleine_xgb_gs.predict(X_test)\n",
    "print(classification_report(y_test, y_pred))"
   ]
  },
  {
   "cell_type": "markdown",
   "metadata": {},
   "source": [
    "# Choose the model 5\n",
    "1. The model 1 give good score on the classification\n",
    "\n",
    "              precision    recall  f1-score   support\n",
    "\n",
    "               0       0.82      0.78      0.80        89\n",
    "               1       0.62      0.71      0.66       160\n",
    "               2       0.63      0.53      0.57       114\n",
    "\n",
    "       micro avg       0.67      0.67      0.67       363\n",
    "       macro avg       0.69      0.67      0.68       363\n",
    "       weighted avg    0.67      0.67      0.67       363\n",
    "       \n",
    "2. The most important factors are:\n",
    "    - job_level: level 2 'junior executive', 3 'executive', 6 'manager', this experience few unusual findings a. frame job level 2 (junior executive) to job level 1 (non-executive) there is a drop in the job level, maybe some non-executive people have more salary than junior executive, again compair to level 3 'executive', there is a jump. job level 6 manager has higher pay then middle management, which is unusual to the career level salary curve\n",
    "    - job_skill: The following skills give impact on the salary \n",
    "    python, risk management, cross-functional team leadership, artificial intelligence, public speaking, integration, business development,\tbusiness intelligence, web development engineering, algorithm, digital marketing(See below dataframe)\n",
    "    - job_category: information technology,\tbanking and finance, others. This three job industries give impact in the salary"
   ]
  },
  {
   "cell_type": "code",
   "execution_count": 60,
   "metadata": {},
   "outputs": [
    {
     "data": {
      "text/plain": [
       "array([[<matplotlib.axes._subplots.AxesSubplot object at 0x0000029D571DA588>]], dtype=object)"
      ]
     },
     "execution_count": 60,
     "metadata": {},
     "output_type": "execute_result"
    },
    {
     "data": {
      "image/png": "[encoded data removed]",
      "text/plain": [
       "<Figure size 432x288 with 1 Axes>"
      ]
     },
     "metadata": {
      "needs_background": "light"
     },
     "output_type": "display_data"
    }
   ],
   "source": [
    "# create pd for the importance feactors with coresponding feature name and category\n",
    "xgboost_feature_improtances = pd.DataFrame(imb_pipleine_xgb_gs.best_estimator_.named_steps['estimator'].feature_importances_, index=X.columns, columns=['feature_importance'])\n",
    "\n",
    "# get list of feature types\n",
    "feature_type = []\n",
    "for i, feature in enumerate([job_level_df, job_cate_df, job_skill_df,job_type_df, job_label_df]):\n",
    "    feature_type.extend([i for _ in feature.nunique()])\n",
    "\n",
    "# adding feature type in feature importance figure     \n",
    "xgboost_feature_improtances.insert(loc=1, value=feature_type, column='feature_type')\n",
    "xgboost_feature_improtances.feature_type = xgboost_feature_improtances.feature_type.map({0:'job_level_df', 1:'job_cate_df', 2:'job_skill_df', 3:'job_type_df', 4:'job_label_df'})\n",
    "\n",
    "# get feature importance distribution\n",
    "xgboost_feature_improtances[xgboost_feature_improtances.feature_importance>0].hist()"
   ]
  },
  {
   "cell_type": "code",
   "execution_count": 61,
   "metadata": {
    "scrolled": true
   },
   "outputs": [
    {
     "data": {
      "text/plain": [
       "count    815.000000\n",
       "mean       0.001227\n",
       "std        0.004193\n",
       "min        0.000000\n",
       "25%        0.000000\n",
       "50%        0.000000\n",
       "75%        0.000630\n",
       "max        0.050934\n",
       "Name: feature_importance, dtype: float64"
      ]
     },
     "execution_count": 61,
     "metadata": {},
     "output_type": "execute_result"
    }
   ],
   "source": [
    "xgboost_feature_improtances.feature_importance.describe()"
   ]
  },
  {
   "cell_type": "code",
   "execution_count": 62,
   "metadata": {},
   "outputs": [
    {
     "data": {
      "text/html": [
       "<div>\n",
       "<style scoped>\n",
       "    .dataframe tbody tr th:only-of-type {\n",
       "        vertical-align: middle;\n",
       "    }\n",
       "\n",
       "    .dataframe tbody tr th {\n",
       "        vertical-align: top;\n",
       "    }\n",
       "\n",
       "    .dataframe thead th {\n",
       "        text-align: right;\n",
       "    }\n",
       "</style>\n",
       "<table border=\"1\" class=\"dataframe\">\n",
       "  <thead>\n",
       "    <tr style=\"text-align: right;\">\n",
       "      <th></th>\n",
       "      <th>feature_importance</th>\n",
       "      <th>feature_type</th>\n",
       "    </tr>\n",
       "  </thead>\n",
       "  <tbody>\n",
       "    <tr>\n",
       "      <th>2.0</th>\n",
       "      <td>0.050934</td>\n",
       "      <td>job_level_df</td>\n",
       "    </tr>\n",
       "    <tr>\n",
       "      <th>python</th>\n",
       "      <td>0.048661</td>\n",
       "      <td>job_skill_df</td>\n",
       "    </tr>\n",
       "    <tr>\n",
       "      <th>risk management</th>\n",
       "      <td>0.041965</td>\n",
       "      <td>job_skill_df</td>\n",
       "    </tr>\n",
       "    <tr>\n",
       "      <th>3.0</th>\n",
       "      <td>0.030830</td>\n",
       "      <td>job_level_df</td>\n",
       "    </tr>\n",
       "    <tr>\n",
       "      <th>6.0</th>\n",
       "      <td>0.026784</td>\n",
       "      <td>job_level_df</td>\n",
       "    </tr>\n",
       "    <tr>\n",
       "      <th>cross-functional team leadership</th>\n",
       "      <td>0.026437</td>\n",
       "      <td>job_skill_df</td>\n",
       "    </tr>\n",
       "    <tr>\n",
       "      <th>artificial intelligence</th>\n",
       "      <td>0.026322</td>\n",
       "      <td>job_skill_df</td>\n",
       "    </tr>\n",
       "    <tr>\n",
       "      <th>information technology</th>\n",
       "      <td>0.024200</td>\n",
       "      <td>job_cate_df</td>\n",
       "    </tr>\n",
       "    <tr>\n",
       "      <th>solution_architect</th>\n",
       "      <td>0.021286</td>\n",
       "      <td>job_label_df</td>\n",
       "    </tr>\n",
       "    <tr>\n",
       "      <th>public speaking</th>\n",
       "      <td>0.021247</td>\n",
       "      <td>job_skill_df</td>\n",
       "    </tr>\n",
       "    <tr>\n",
       "      <th>integration</th>\n",
       "      <td>0.020422</td>\n",
       "      <td>job_skill_df</td>\n",
       "    </tr>\n",
       "    <tr>\n",
       "      <th>banking and finance</th>\n",
       "      <td>0.017792</td>\n",
       "      <td>job_cate_df</td>\n",
       "    </tr>\n",
       "    <tr>\n",
       "      <th>business development</th>\n",
       "      <td>0.014264</td>\n",
       "      <td>job_skill_df</td>\n",
       "    </tr>\n",
       "    <tr>\n",
       "      <th>others</th>\n",
       "      <td>0.014245</td>\n",
       "      <td>job_cate_df</td>\n",
       "    </tr>\n",
       "    <tr>\n",
       "      <th>business intelligence</th>\n",
       "      <td>0.012738</td>\n",
       "      <td>job_skill_df</td>\n",
       "    </tr>\n",
       "    <tr>\n",
       "      <th>web development</th>\n",
       "      <td>0.012383</td>\n",
       "      <td>job_skill_df</td>\n",
       "    </tr>\n",
       "    <tr>\n",
       "      <th>engineering</th>\n",
       "      <td>0.011816</td>\n",
       "      <td>job_skill_df</td>\n",
       "    </tr>\n",
       "    <tr>\n",
       "      <th>data_scientist</th>\n",
       "      <td>0.011473</td>\n",
       "      <td>job_label_df</td>\n",
       "    </tr>\n",
       "    <tr>\n",
       "      <th>algorithm</th>\n",
       "      <td>0.010993</td>\n",
       "      <td>job_skill_df</td>\n",
       "    </tr>\n",
       "    <tr>\n",
       "      <th>digital marketing</th>\n",
       "      <td>0.010427</td>\n",
       "      <td>job_skill_df</td>\n",
       "    </tr>\n",
       "  </tbody>\n",
       "</table>\n",
       "</div>"
      ],
      "text/plain": [
       "                                  feature_importance  feature_type\n",
       "2.0                                         0.050934  job_level_df\n",
       "python                                      0.048661  job_skill_df\n",
       "risk management                             0.041965  job_skill_df\n",
       "3.0                                         0.030830  job_level_df\n",
       "6.0                                         0.026784  job_level_df\n",
       "cross-functional team leadership            0.026437  job_skill_df\n",
       "artificial intelligence                     0.026322  job_skill_df\n",
       "information technology                      0.024200   job_cate_df\n",
       "solution_architect                          0.021286  job_label_df\n",
       "public speaking                             0.021247  job_skill_df\n",
       "integration                                 0.020422  job_skill_df\n",
       "banking and finance                         0.017792   job_cate_df\n",
       "business development                        0.014264  job_skill_df\n",
       "others                                      0.014245   job_cate_df\n",
       "business intelligence                       0.012738  job_skill_df\n",
       "web development                             0.012383  job_skill_df\n",
       "engineering                                 0.011816  job_skill_df\n",
       "data_scientist                              0.011473  job_label_df\n",
       "algorithm                                   0.010993  job_skill_df\n",
       "digital marketing                           0.010427  job_skill_df"
      ]
     },
     "execution_count": 62,
     "metadata": {},
     "output_type": "execute_result"
    }
   ],
   "source": [
    "# choose the features above 0.01 for analysis\n",
    "xgboost_feature_improtances.loc[xgboost_feature_improtances.feature_importance>0.01].\\\n",
    "    sort_values(by='feature_importance', ascending=False)"
   ]
  },
  {
   "cell_type": "code",
   "execution_count": 63,
   "metadata": {},
   "outputs": [
    {
     "data": {
      "text/plain": [
       "<matplotlib.legend.Legend at 0x29d57447cc0>"
      ]
     },
     "execution_count": 63,
     "metadata": {},
     "output_type": "execute_result"
    },
    {
     "data": {
      "image/png": "[encoded data removed]",
      "text/plain": [
       "<Figure size 864x432 with 1 Axes>"
      ]
     },
     "metadata": {
      "needs_background": "light"
     },
     "output_type": "display_data"
    }
   ],
   "source": [
    "# plot the salary categories vs job level\n",
    "pd.concat([job_level_digit, y], axis=1).groupby(['job_level']).mean().plot()\n",
    "plt.gcf().set_size_inches(12,6)\n",
    "plt.grid()\n",
    "plt.xticks(range(9), ['fresh/entry level', 'non-executive', 'junior executive', 'executive', \\\n",
    "            'senior executive', 'professional', 'manager', 'middle management', 'senior management'], size=12, rotation=10)\n",
    "plt.title('Salary Categories vs Job Level', size=16)\n",
    "plt.legend( prop={'size': 14})"
   ]
  },
  {
   "cell_type": "code",
   "execution_count": 64,
   "metadata": {},
   "outputs": [
    {
     "data": {
      "text/html": [
       "<div>\n",
       "<style scoped>\n",
       "    .dataframe tbody tr th:only-of-type {\n",
       "        vertical-align: middle;\n",
       "    }\n",
       "\n",
       "    .dataframe tbody tr th {\n",
       "        vertical-align: top;\n",
       "    }\n",
       "\n",
       "    .dataframe thead th {\n",
       "        text-align: right;\n",
       "    }\n",
       "</style>\n",
       "<table border=\"1\" class=\"dataframe\">\n",
       "  <thead>\n",
       "    <tr style=\"text-align: right;\">\n",
       "      <th></th>\n",
       "      <th>feature_importance</th>\n",
       "      <th>feature_type</th>\n",
       "    </tr>\n",
       "  </thead>\n",
       "  <tbody>\n",
       "    <tr>\n",
       "      <th>python</th>\n",
       "      <td>0.048661</td>\n",
       "      <td>job_skill_df</td>\n",
       "    </tr>\n",
       "    <tr>\n",
       "      <th>risk management</th>\n",
       "      <td>0.041965</td>\n",
       "      <td>job_skill_df</td>\n",
       "    </tr>\n",
       "    <tr>\n",
       "      <th>cross-functional team leadership</th>\n",
       "      <td>0.026437</td>\n",
       "      <td>job_skill_df</td>\n",
       "    </tr>\n",
       "    <tr>\n",
       "      <th>artificial intelligence</th>\n",
       "      <td>0.026322</td>\n",
       "      <td>job_skill_df</td>\n",
       "    </tr>\n",
       "    <tr>\n",
       "      <th>public speaking</th>\n",
       "      <td>0.021247</td>\n",
       "      <td>job_skill_df</td>\n",
       "    </tr>\n",
       "    <tr>\n",
       "      <th>integration</th>\n",
       "      <td>0.020422</td>\n",
       "      <td>job_skill_df</td>\n",
       "    </tr>\n",
       "    <tr>\n",
       "      <th>business development</th>\n",
       "      <td>0.014264</td>\n",
       "      <td>job_skill_df</td>\n",
       "    </tr>\n",
       "    <tr>\n",
       "      <th>business intelligence</th>\n",
       "      <td>0.012738</td>\n",
       "      <td>job_skill_df</td>\n",
       "    </tr>\n",
       "    <tr>\n",
       "      <th>web development</th>\n",
       "      <td>0.012383</td>\n",
       "      <td>job_skill_df</td>\n",
       "    </tr>\n",
       "    <tr>\n",
       "      <th>engineering</th>\n",
       "      <td>0.011816</td>\n",
       "      <td>job_skill_df</td>\n",
       "    </tr>\n",
       "    <tr>\n",
       "      <th>algorithm</th>\n",
       "      <td>0.010993</td>\n",
       "      <td>job_skill_df</td>\n",
       "    </tr>\n",
       "    <tr>\n",
       "      <th>digital marketing</th>\n",
       "      <td>0.010427</td>\n",
       "      <td>job_skill_df</td>\n",
       "    </tr>\n",
       "  </tbody>\n",
       "</table>\n",
       "</div>"
      ],
      "text/plain": [
       "                                  feature_importance  feature_type\n",
       "python                                      0.048661  job_skill_df\n",
       "risk management                             0.041965  job_skill_df\n",
       "cross-functional team leadership            0.026437  job_skill_df\n",
       "artificial intelligence                     0.026322  job_skill_df\n",
       "public speaking                             0.021247  job_skill_df\n",
       "integration                                 0.020422  job_skill_df\n",
       "business development                        0.014264  job_skill_df\n",
       "business intelligence                       0.012738  job_skill_df\n",
       "web development                             0.012383  job_skill_df\n",
       "engineering                                 0.011816  job_skill_df\n",
       "algorithm                                   0.010993  job_skill_df\n",
       "digital marketing                           0.010427  job_skill_df"
      ]
     },
     "execution_count": 64,
     "metadata": {},
     "output_type": "execute_result"
    }
   ],
   "source": [
    "# display the feature importance for skills\n",
    "xgboost_feature_improtances.loc[ (xgboost_feature_improtances.feature_type=='job_skill_df') & (xgboost_feature_improtances.feature_importance>0.01), :].sort_values(by='feature_importance', ascending=False)"
   ]
  },
  {
   "cell_type": "markdown",
   "metadata": {},
   "source": [
    "## Question 2\n",
    "Using the job postings you scraped for part 1 (or potentially new job postings from a second round of scraping), identify features in the data related to job postings that can distinguish job titles from each other. There are a variety of interesting ways you can frame the target variable, for example:\n",
    "- What components of a job posting distinguish data scientists from other data jobs?\n",
    "- What features are important for distinguishing junior vs. senior positions?\n",
    "- Do the requirements for titles vary significantly with industry (e.g. healthcare vs. government)?\n",
    "\n",
    "You may end up making multiple classification models to tackle different questions. Be sure to clearly explain your hypotheses and framing, any feature engineering, and what your target variables are. The type of classification model you choose is up to you. Be sure to interpret your results and evaluate your models' performance.\n"
   ]
  },
  {
   "cell_type": "markdown",
   "metadata": {},
   "source": [
    "# Question 2 problem\n",
    "\n",
    "Determine what is the factors distinguish industrial oriented analyst( other_analyst ) from skill oriented postion (the rest of job labels)"
   ]
  },
  {
   "cell_type": "code",
   "execution_count": 65,
   "metadata": {
    "scrolled": true
   },
   "outputs": [
    {
     "data": {
      "text/plain": [
       "other_analyst         288\n",
       "data_engineer         238\n",
       "Research              236\n",
       "solution_architect    123\n",
       "data_scientist        119\n",
       "data_analyst           81\n",
       "entry                  14\n",
       "Name: job_label, dtype: int64"
      ]
     },
     "execution_count": 65,
     "metadata": {},
     "output_type": "execute_result"
    }
   ],
   "source": [
    "# take a look of job labels\n",
    "q1_jobs.job_label.value_counts()"
   ]
  },
  {
   "cell_type": "code",
   "execution_count": 66,
   "metadata": {},
   "outputs": [
    {
     "data": {
      "text/plain": [
       "((736, 809), (363, 809), (736,))"
      ]
     },
     "execution_count": 66,
     "metadata": {},
     "output_type": "execute_result"
    }
   ],
   "source": [
    "# generate predictor for q2, taking job_level, job_cate, job_skill, job_type\n",
    "X_q2 = pd.concat([job_level_df, job_cate_df, job_skill_df,job_type_df ], axis=1)\n",
    "\n",
    "# target 1 for other_analyst, 0 for the rest\n",
    "y_q2 = (q1_jobs.job_label=='other_analyst').map({False:0, True:1})\n",
    "\n",
    "# train test split\n",
    "X_train_q2, X_test_q2, y_train_q2, y_test_q2 = train_test_split(X_q2, y_q2, test_size=0.33, random_state=13)\n",
    "X_train_q2.shape, X_test_q2.shape, y_train_q2.shape"
   ]
  },
  {
   "cell_type": "code",
   "execution_count": 69,
   "metadata": {},
   "outputs": [
    {
     "name": "stderr",
     "output_type": "stream",
     "text": [
      "C:\\Users\\huwenmiao\\Anaconda3\\envs\\gadsi36\\lib\\site-packages\\sklearn\\preprocessing\\data.py:625: DataConversionWarning: Data with input dtype uint8, int64, float64 were all converted to float64 by StandardScaler.\n",
      "  return self.partial_fit(X, y)\n",
      "C:\\Users\\huwenmiao\\Anaconda3\\envs\\gadsi36\\lib\\site-packages\\sklearn\\base.py:462: DataConversionWarning: Data with input dtype uint8, int64, float64 were all converted to float64 by StandardScaler.\n",
      "  return self.fit(X, **fit_params).transform(X)\n",
      "C:\\Users\\huwenmiao\\Anaconda3\\envs\\gadsi36\\lib\\site-packages\\ipykernel_launcher.py:7: DataConversionWarning: Data with input dtype uint8, int64, float64 were all converted to float64 by StandardScaler.\n",
      "  import sys\n"
     ]
    }
   ],
   "source": [
    "# model 1 logistic regression with standardized features\n",
    "\n",
    "logR_q2 = LogisticRegressionCV(class_weight='balanced', penalty='l2', max_iter=5000 , cv=5, scoring='f1_micro')\n",
    "scaler_q2 = StandardScaler()\n",
    "X_train_ss_q2 = scaler_q2.fit_transform(X_train_q2)\n",
    "logR_q2.fit(X_train_ss_q2, y_train_q2)\n",
    "X_test_ss_q2 = scaler_q2.transform(X_test_q2)"
   ]
  },
  {
   "cell_type": "code",
   "execution_count": 70,
   "metadata": {
    "scrolled": true
   },
   "outputs": [
    {
     "name": "stdout",
     "output_type": "stream",
     "text": [
      "              precision    recall  f1-score   support\n",
      "\n",
      "           0       0.91      0.84      0.88       272\n",
      "           1       0.62      0.76      0.68        91\n",
      "\n",
      "   micro avg       0.82      0.82      0.82       363\n",
      "   macro avg       0.76      0.80      0.78       363\n",
      "weighted avg       0.84      0.82      0.83       363\n",
      "\n",
      "AUC 0.885989010989011\n"
     ]
    },
    {
     "data": {
      "text/html": [
       "<div>\n",
       "<style scoped>\n",
       "    .dataframe tbody tr th:only-of-type {\n",
       "        vertical-align: middle;\n",
       "    }\n",
       "\n",
       "    .dataframe tbody tr th {\n",
       "        vertical-align: top;\n",
       "    }\n",
       "\n",
       "    .dataframe thead th {\n",
       "        text-align: right;\n",
       "    }\n",
       "</style>\n",
       "<table border=\"1\" class=\"dataframe\">\n",
       "  <thead>\n",
       "    <tr style=\"text-align: right;\">\n",
       "      <th></th>\n",
       "      <th>not_other_analyst_classified</th>\n",
       "      <th>other_analyst_classified</th>\n",
       "    </tr>\n",
       "  </thead>\n",
       "  <tbody>\n",
       "    <tr>\n",
       "      <th>not_other_analyst_real</th>\n",
       "      <td>229</td>\n",
       "      <td>22</td>\n",
       "    </tr>\n",
       "    <tr>\n",
       "      <th>other_analyst_real</th>\n",
       "      <td>43</td>\n",
       "      <td>69</td>\n",
       "    </tr>\n",
       "  </tbody>\n",
       "</table>\n",
       "</div>"
      ],
      "text/plain": [
       "                        not_other_analyst_classified  other_analyst_classified\n",
       "not_other_analyst_real                           229                        22\n",
       "other_analyst_real                                43                        69"
      ]
     },
     "execution_count": 70,
     "metadata": {},
     "output_type": "execute_result"
    }
   ],
   "source": [
    "y_pred_q2= logR_q2.predict(X_test_ss_q2)\n",
    "print(classification_report(y_test_q2, y_pred_q2))\n",
    "y_pred_proba = logR_q2.predict_proba(X_test_ss_q2)\n",
    "fpr, tpr, _ = roc_curve(y_test_q2, y_pred_proba[:,1])\n",
    "print(f\"AUC {auc(fpr,tpr)}\")\n",
    "pd.DataFrame(confusion_matrix(y_pred_q2, y_test_q2), columns=['not_other_analyst_classified', 'other_analyst_classified'], index=['not_other_analyst_real', 'other_analyst_real'])\n"
   ]
  },
  {
   "cell_type": "code",
   "execution_count": 71,
   "metadata": {},
   "outputs": [
    {
     "name": "stdout",
     "output_type": "stream",
     "text": [
      "[ 0.82432432  0.85135135  0.75675676  0.90540541  0.77027027  0.81081081\n",
      "  0.81081081  0.84931507  0.8630137   0.83333333]\n"
     ]
    },
    {
     "data": {
      "text/plain": [
       "MultinomialNB(alpha=1.0, class_prior=None, fit_prior=True)"
      ]
     },
     "execution_count": 71,
     "metadata": {},
     "output_type": "execute_result"
    }
   ],
   "source": [
    "# model 2 Multinomail Naive bayern \n",
    "\n",
    "MNB_q2 = MultinomialNB()\n",
    "print(cross_val_score(MNB_q2, X_train_q2, y_train_q2, cv=10, scoring='f1_micro'))\n",
    "MNB_q2.fit(X_train_q2, y_train_q2)\n"
   ]
  },
  {
   "cell_type": "code",
   "execution_count": 72,
   "metadata": {},
   "outputs": [
    {
     "name": "stdout",
     "output_type": "stream",
     "text": [
      "              precision    recall  f1-score   support\n",
      "\n",
      "           0       0.97      0.67      0.79       272\n",
      "           1       0.49      0.93      0.64        91\n",
      "\n",
      "   micro avg       0.74      0.74      0.74       363\n",
      "   macro avg       0.73      0.80      0.72       363\n",
      "weighted avg       0.85      0.74      0.76       363\n",
      "\n",
      "AUC 0.8771816418875243\n"
     ]
    },
    {
     "data": {
      "text/html": [
       "<div>\n",
       "<style scoped>\n",
       "    .dataframe tbody tr th:only-of-type {\n",
       "        vertical-align: middle;\n",
       "    }\n",
       "\n",
       "    .dataframe tbody tr th {\n",
       "        vertical-align: top;\n",
       "    }\n",
       "\n",
       "    .dataframe thead th {\n",
       "        text-align: right;\n",
       "    }\n",
       "</style>\n",
       "<table border=\"1\" class=\"dataframe\">\n",
       "  <thead>\n",
       "    <tr style=\"text-align: right;\">\n",
       "      <th></th>\n",
       "      <th>not_other_analyst_classified</th>\n",
       "      <th>other_analyst_classified</th>\n",
       "    </tr>\n",
       "  </thead>\n",
       "  <tbody>\n",
       "    <tr>\n",
       "      <th>not_other_analyst_real</th>\n",
       "      <td>183</td>\n",
       "      <td>6</td>\n",
       "    </tr>\n",
       "    <tr>\n",
       "      <th>other_analyst_real</th>\n",
       "      <td>89</td>\n",
       "      <td>85</td>\n",
       "    </tr>\n",
       "  </tbody>\n",
       "</table>\n",
       "</div>"
      ],
      "text/plain": [
       "                        not_other_analyst_classified  other_analyst_classified\n",
       "not_other_analyst_real                           183                         6\n",
       "other_analyst_real                                89                        85"
      ]
     },
     "execution_count": 72,
     "metadata": {},
     "output_type": "execute_result"
    }
   ],
   "source": [
    "y_pred_q2= MNB_q2.predict(X_test_ss_q2)\n",
    "print(classification_report(y_test_q2, y_pred_q2))\n",
    "y_pred_proba = MNB_q2.predict_proba(X_test_ss_q2)\n",
    "fpr, tpr, _ = roc_curve(y_test_q2, y_pred_proba[:,1])\n",
    "print(f\"AUC {auc(fpr,tpr)}\")\n",
    "pd.DataFrame(confusion_matrix(y_pred_q2, y_test_q2), columns=['not_other_analyst_classified', 'other_analyst_classified'], index=['not_other_analyst_real', 'other_analyst_real'])\n"
   ]
  },
  {
   "cell_type": "code",
   "execution_count": 75,
   "metadata": {},
   "outputs": [
    {
     "name": "stdout",
     "output_type": "stream",
     "text": [
      "Fitting 3 folds for each of 4320 candidates, totalling 12960 fits\n"
     ]
    },
    {
     "name": "stderr",
     "output_type": "stream",
     "text": [
      "[Parallel(n_jobs=7)]: Using backend LokyBackend with 7 concurrent workers.\n",
      "[Parallel(n_jobs=7)]: Done  36 tasks      | elapsed:    3.1s\n",
      "[Parallel(n_jobs=7)]: Done 186 tasks      | elapsed:    8.2s\n",
      "[Parallel(n_jobs=7)]: Done 436 tasks      | elapsed:   17.2s\n",
      "[Parallel(n_jobs=7)]: Done 786 tasks      | elapsed:   29.1s\n",
      "[Parallel(n_jobs=7)]: Done 1236 tasks      | elapsed:   45.0s\n",
      "[Parallel(n_jobs=7)]: Done 1786 tasks      | elapsed:  1.1min\n",
      "[Parallel(n_jobs=7)]: Done 2436 tasks      | elapsed:  1.5min\n",
      "[Parallel(n_jobs=7)]: Done 3186 tasks      | elapsed:  1.9min\n",
      "[Parallel(n_jobs=7)]: Done 4036 tasks      | elapsed:  2.4min\n",
      "[Parallel(n_jobs=7)]: Done 4986 tasks      | elapsed:  3.0min\n",
      "[Parallel(n_jobs=7)]: Done 6036 tasks      | elapsed:  3.7min\n",
      "[Parallel(n_jobs=7)]: Done 7186 tasks      | elapsed:  4.4min\n",
      "[Parallel(n_jobs=7)]: Done 8436 tasks      | elapsed:  5.2min\n",
      "[Parallel(n_jobs=7)]: Done 9786 tasks      | elapsed:  6.1min\n",
      "[Parallel(n_jobs=7)]: Done 11236 tasks      | elapsed:  7.0min\n",
      "[Parallel(n_jobs=7)]: Done 12786 tasks      | elapsed:  8.1min\n",
      "[Parallel(n_jobs=7)]: Done 12960 out of 12960 | elapsed:  8.2min finished\n"
     ]
    },
    {
     "data": {
      "text/plain": [
       "GridSearchCV(cv=3, error_score='raise-deprecating',\n",
       "       estimator=Pipeline(memory=None,\n",
       "     steps=[('smt', SMOTE(k_neighbors=5, kind='deprecated', m_neighbors='deprecated', n_jobs=1,\n",
       "   out_step='deprecated', random_state=None, ratio=None,\n",
       "   sampling_strategy='auto', svm_estimator='deprecated')), ('estimator', RandomForestClassifier(bootstrap=True, class_weight=None, criterion='gini',\n",
       "   ...obs=None,\n",
       "            oob_score=False, random_state=None, verbose=0,\n",
       "            warm_start=False))]),\n",
       "       fit_params=None, iid='warn', n_jobs=7,\n",
       "       param_grid={'smt__k_neighbors': range(3, 9), 'smt__sampling_strategy': ['minority'], 'estimator__class_weight': [{0: 1, 1: 2}, {0: 1, 1: 4}, {0: 1, 1: 5}, {0: 1, 1: 6}], 'estimator__n_estimators': [15, 20, 30, 40, 50, 100], 'estimator__max_depth': [10, 15, 30, 40, 60, 100], 'estimator__min_samples_split': [20, 10, 6, 4, 2]},\n",
       "       pre_dispatch='2*n_jobs', refit=True, return_train_score='warn',\n",
       "       scoring='f1_micro', verbose=1)"
      ]
     },
     "execution_count": 75,
     "metadata": {},
     "output_type": "execute_result"
    }
   ],
   "source": [
    "# model 3 RandomForestClassifier with SMOTE oversampling\n",
    "# imb_pipleine_q2 = imPipeline([('smt', SMOTE()), ('estimator',RandomForestClassifier())])\n",
    "# parameter_q2 = {\n",
    "#     'smt__k_neighbors': range(3, 9),\n",
    "#     'smt__sampling_strategy': ['minority'],\n",
    "# #     'estimator__class_weight':[{0:1,1:1}, {0:1,1:1.5}, {0:1,1:2}, {0:1,1:3}, {0:1,1:2}, {0:1,1:3},{0:1,1:4}],\n",
    "#     'estimator__class_weight':[  {0:1,1:2}, {0:1,1:4}, {0:1,1:5}, {0:1,1:6}],\n",
    "#     'estimator__n_estimators': [ 15, 20, 30, 40, 50, 100],\n",
    "#     'estimator__max_depth': [10, 15, 30, 40, 60, 100],\n",
    "#     'estimator__min_samples_split': [20, 10, 6, 4, 2]\n",
    "# }\n",
    "\n",
    "# imb_pipleine_gs_q2 = GridSearchCV(imb_pipleine_q2, parameter_q2,scoring='f1_micro' ,cv=3, verbose=1, n_jobs=7)\n",
    "# imb_pipleine_gs_q2.fit(X_train_q2, y_train_q2)\n"
   ]
  },
  {
   "cell_type": "code",
   "execution_count": 77,
   "metadata": {},
   "outputs": [],
   "source": [
    "# with open('q2_rf_imb_weight_13.p', 'wb') as f:\n",
    "#     pickle.dump(imb_pipleine_gs_q2, f)"
   ]
  },
  {
   "cell_type": "code",
   "execution_count": 78,
   "metadata": {},
   "outputs": [],
   "source": [
    "with open('q2_rf_imb_weight_13.p', 'rb') as f:\n",
    "    imb_pipleine_rf_q2 = pickle.load(f)"
   ]
  },
  {
   "cell_type": "code",
   "execution_count": 79,
   "metadata": {},
   "outputs": [
    {
     "name": "stdout",
     "output_type": "stream",
     "text": [
      "              precision    recall  f1-score   support\n",
      "\n",
      "           0       0.89      0.90      0.89       272\n",
      "           1       0.69      0.66      0.67        91\n",
      "\n",
      "   micro avg       0.84      0.84      0.84       363\n",
      "   macro avg       0.79      0.78      0.78       363\n",
      "weighted avg       0.84      0.84      0.84       363\n",
      "\n",
      "AUC 0.8664148351648352\n"
     ]
    },
    {
     "data": {
      "text/html": [
       "<div>\n",
       "<style scoped>\n",
       "    .dataframe tbody tr th:only-of-type {\n",
       "        vertical-align: middle;\n",
       "    }\n",
       "\n",
       "    .dataframe tbody tr th {\n",
       "        vertical-align: top;\n",
       "    }\n",
       "\n",
       "    .dataframe thead th {\n",
       "        text-align: right;\n",
       "    }\n",
       "</style>\n",
       "<table border=\"1\" class=\"dataframe\">\n",
       "  <thead>\n",
       "    <tr style=\"text-align: right;\">\n",
       "      <th></th>\n",
       "      <th>not_other_analyst_classified</th>\n",
       "      <th>other_analyst_classified</th>\n",
       "    </tr>\n",
       "  </thead>\n",
       "  <tbody>\n",
       "    <tr>\n",
       "      <th>not_other_analyst_real</th>\n",
       "      <td>245</td>\n",
       "      <td>31</td>\n",
       "    </tr>\n",
       "    <tr>\n",
       "      <th>other_analyst_real</th>\n",
       "      <td>27</td>\n",
       "      <td>60</td>\n",
       "    </tr>\n",
       "  </tbody>\n",
       "</table>\n",
       "</div>"
      ],
      "text/plain": [
       "                        not_other_analyst_classified  other_analyst_classified\n",
       "not_other_analyst_real                           245                        31\n",
       "other_analyst_real                                27                        60"
      ]
     },
     "execution_count": 79,
     "metadata": {},
     "output_type": "execute_result"
    }
   ],
   "source": [
    "y_pred_q2= imb_pipleine_rf_q2.predict(X_test_ss_q2)\n",
    "print(classification_report(y_test_q2, y_pred_q2))\n",
    "y_pred_proba = imb_pipleine_rf_q2.predict_proba(X_test_ss_q2)\n",
    "fpr, tpr, _ = roc_curve(y_test_q2, y_pred_proba[:,1])\n",
    "print(f\"AUC {auc(fpr,tpr)}\")\n",
    "pd.DataFrame(confusion_matrix(y_pred_q2, y_test_q2), columns=['not_other_analyst_classified', 'other_analyst_classified'], index=['not_other_analyst_real', 'other_analyst_real'])\n"
   ]
  },
  {
   "cell_type": "code",
   "execution_count": 80,
   "metadata": {},
   "outputs": [
    {
     "name": "stdout",
     "output_type": "stream",
     "text": [
      "Fitting 5 folds for each of 245 candidates, totalling 1225 fits\n"
     ]
    },
    {
     "name": "stderr",
     "output_type": "stream",
     "text": [
      "[Parallel(n_jobs=4)]: Using backend LokyBackend with 4 concurrent workers.\n",
      "[Parallel(n_jobs=4)]: Done 128 tasks      | elapsed:    5.8s\n",
      "[Parallel(n_jobs=4)]: Done 564 tasks      | elapsed:   29.2s\n",
      "[Parallel(n_jobs=4)]: Done 1064 tasks      | elapsed:   58.0s\n",
      "[Parallel(n_jobs=4)]: Done 1218 out of 1225 | elapsed:  1.1min remaining:    0.3s\n",
      "[Parallel(n_jobs=4)]: Done 1225 out of 1225 | elapsed:  1.1min finished\n"
     ]
    },
    {
     "data": {
      "text/plain": [
       "GridSearchCV(cv=5, error_score='raise-deprecating',\n",
       "       estimator=RandomForestClassifier(bootstrap=True, class_weight='balanced',\n",
       "            criterion='gini', max_depth=None, max_features='auto',\n",
       "            max_leaf_nodes=None, min_impurity_decrease=0.0,\n",
       "            min_impurity_split=None, min_samples_leaf=1,\n",
       "            min_samples_split=2, min_weight_fraction_leaf=0.0,\n",
       "            n_estimators='warn', n_jobs=None, oob_score=False,\n",
       "            random_state=None, verbose=0, warm_start=False),\n",
       "       fit_params=None, iid='warn', n_jobs=4,\n",
       "       param_grid={'n_estimators': [10, 15, 20, 50, 100, 200, 300], 'max_depth': [10, 15, 30, 60, 100, 200, 400], 'min_samples_split': [20, 10, 6, 4, 2]},\n",
       "       pre_dispatch='2*n_jobs', refit=True, return_train_score='warn',\n",
       "       scoring='f1_micro', verbose=1)"
      ]
     },
     "execution_count": 80,
     "metadata": {},
     "output_type": "execute_result"
    }
   ],
   "source": [
    "# # # # model 4 RandomForestClassifier with balanced weight\n",
    "# rf_q2 = RandomForestClassifier(class_weight='balanced')\n",
    "# rf_parameter_q2 = {'n_estimators': [10, 15, 20, 50,100, 200, 300],\n",
    "#                 'max_depth': [10, 15, 30, 60, 100, 200, 400],\n",
    "#                 'min_samples_split': [20, 10, 6, 4, 2]\n",
    "  \n",
    "# }\n",
    "\n",
    "# rf_gs_q2 = GridSearchCV(rf_q2, rf_parameter_q2,scoring='f1_micro',cv=5, n_jobs=4, verbose=1)\n",
    "# rf_gs_q2.fit(X_train_q2, y_train_q2)\n"
   ]
  },
  {
   "cell_type": "code",
   "execution_count": 81,
   "metadata": {},
   "outputs": [],
   "source": [
    "# with open('q2_rf_weight_13.p', 'wb') as f:\n",
    "#     pickle.dump(rf_gs_q2, f)"
   ]
  },
  {
   "cell_type": "code",
   "execution_count": 82,
   "metadata": {},
   "outputs": [],
   "source": [
    "with open('q2_rf_weight_13.p', 'rb') as f:\n",
    "    rf_gs_q2 = pickle.load(f)"
   ]
  },
  {
   "cell_type": "code",
   "execution_count": 83,
   "metadata": {},
   "outputs": [
    {
     "name": "stdout",
     "output_type": "stream",
     "text": [
      "              precision    recall  f1-score   support\n",
      "\n",
      "           0       0.94      0.74      0.83       272\n",
      "           1       0.53      0.87      0.66        91\n",
      "\n",
      "   micro avg       0.77      0.77      0.77       363\n",
      "   macro avg       0.74      0.81      0.74       363\n",
      "weighted avg       0.84      0.77      0.79       363\n",
      "\n",
      "AUC 0.8697882999353588\n"
     ]
    },
    {
     "data": {
      "text/html": [
       "<div>\n",
       "<style scoped>\n",
       "    .dataframe tbody tr th:only-of-type {\n",
       "        vertical-align: middle;\n",
       "    }\n",
       "\n",
       "    .dataframe tbody tr th {\n",
       "        vertical-align: top;\n",
       "    }\n",
       "\n",
       "    .dataframe thead th {\n",
       "        text-align: right;\n",
       "    }\n",
       "</style>\n",
       "<table border=\"1\" class=\"dataframe\">\n",
       "  <thead>\n",
       "    <tr style=\"text-align: right;\">\n",
       "      <th></th>\n",
       "      <th>not_other_analyst_classified</th>\n",
       "      <th>other_analyst_classified</th>\n",
       "    </tr>\n",
       "  </thead>\n",
       "  <tbody>\n",
       "    <tr>\n",
       "      <th>not_other_analyst_real</th>\n",
       "      <td>202</td>\n",
       "      <td>12</td>\n",
       "    </tr>\n",
       "    <tr>\n",
       "      <th>other_analyst_real</th>\n",
       "      <td>70</td>\n",
       "      <td>79</td>\n",
       "    </tr>\n",
       "  </tbody>\n",
       "</table>\n",
       "</div>"
      ],
      "text/plain": [
       "                        not_other_analyst_classified  other_analyst_classified\n",
       "not_other_analyst_real                           202                        12\n",
       "other_analyst_real                                70                        79"
      ]
     },
     "execution_count": 83,
     "metadata": {},
     "output_type": "execute_result"
    }
   ],
   "source": [
    "y_pred_q2= rf_gs_q2.predict(X_test_ss_q2)\n",
    "print(classification_report(y_test_q2, y_pred_q2))\n",
    "y_pred_proba = rf_gs_q2.predict_proba(X_test_ss_q2)\n",
    "fpr, tpr, _ = roc_curve(y_test_q2, y_pred_proba[:,1])\n",
    "print(f\"AUC {auc(fpr,tpr)}\")\n",
    "pd.DataFrame(confusion_matrix(y_pred_q2, y_test_q2), columns=['not_other_analyst_classified', 'other_analyst_classified'], index=['not_other_analyst_real', 'other_analyst_real'])\n"
   ]
  },
  {
   "cell_type": "code",
   "execution_count": null,
   "metadata": {},
   "outputs": [
    {
     "name": "stdout",
     "output_type": "stream",
     "text": [
      "Fitting 5 folds for each of 2187 candidates, totalling 10935 fits\n"
     ]
    },
    {
     "name": "stderr",
     "output_type": "stream",
     "text": [
      "[Parallel(n_jobs=7)]: Using backend LokyBackend with 7 concurrent workers.\n",
      "[Parallel(n_jobs=7)]: Done  36 tasks      | elapsed:   21.3s\n",
      "[Parallel(n_jobs=7)]: Done 186 tasks      | elapsed:  2.1min\n",
      "[Parallel(n_jobs=7)]: Done 436 tasks      | elapsed:  5.8min\n",
      "[Parallel(n_jobs=7)]: Done 786 tasks      | elapsed:  6.1min\n",
      "[Parallel(n_jobs=7)]: Done 1236 tasks      | elapsed:  8.9min\n"
     ]
    }
   ],
   "source": [
    "# # model 5 GradientBoostingClassifier with balanced weight\n",
    "\n",
    "imb_pipleine_q2 = imPipeline([('smt', SMOTE()), ('estimator',GradientBoostingClassifier())])\n",
    "\n",
    "parameter_q2 = {\n",
    "    'estimator__learning_rate': [0.1, 0.5, 1],\n",
    "    'estimator__max_depth': [20, 50, 70],\n",
    "    'estimator__max_features': ['auto', 'log2', 0.4],\n",
    "    'estimator__max_leaf_nodes': [3, 5, 10 ],\n",
    "    'estimator__min_samples_leaf': [1,3, 5],\n",
    "    'estimator__min_samples_split': [2, 4, 6],\n",
    "    'estimator__n_estimators': [ 10, 50, 100]\n",
    "}\n",
    "\n",
    "imb_pipleine_gs_q2 = GridSearchCV(imb_pipleine_q2, parameter_q2,scoring='f1_micro' ,cv=5, n_jobs=7, verbose=1)\n",
    "imb_pipleine_gs_q2.fit(X_train_q2, y_train_q2)\n",
    "y_pred_q2 = imb_pipleine_gs_q2.predict(X_test_q2)\n",
    "print(classification_report(y_test_q2, y_pred_q2))"
   ]
  },
  {
   "cell_type": "code",
   "execution_count": null,
   "metadata": {},
   "outputs": [],
   "source": [
    "with open('q2_xgb_13.p', 'wb') as f:\n",
    "    pickle.dump(imb_pipleine_gs_q2, f)"
   ]
  },
  {
   "cell_type": "code",
   "execution_count": null,
   "metadata": {},
   "outputs": [],
   "source": [
    "with open('q2_xgb_13.p', 'rb') as f:\n",
    "    imb_pipleine_gs_q2 = pickle.load(f)"
   ]
  },
  {
   "cell_type": "code",
   "execution_count": null,
   "metadata": {},
   "outputs": [],
   "source": [
    "y_pred_q2= imb_pipleine_gs_q2.predict(X_test_ss_q2)\n",
    "print(classification_report(y_test_q2, y_pred_q2))\n",
    "y_pred_proba = imb_pipleine_gs_q2.predict_proba(X_test_ss_q2)\n",
    "fpr, tpr, _ = roc_curve(y_test_q2, y_pred_proba[:,1])\n",
    "print(f\"AUC {auc(fpr,tpr)}\")\n",
    "pd.DataFrame(confusion_matrix(y_pred_q2, y_test_q2), columns=['not_other_analyst_classified', 'other_analyst_classified'], index=['not_other_analyst_real', 'other_analyst_real'])\n"
   ]
  },
  {
   "cell_type": "markdown",
   "metadata": {},
   "source": [
    "# Choose the model 1\n",
    "1. The model 1 give good score on the classification\n",
    "\n",
    "                   precision    recall  f1-score   support\n",
    "\n",
    "               0       0.91      0.84      0.88       272\n",
    "               1       0.62      0.76      0.68        91\n",
    "\n",
    "       micro avg       0.82      0.82      0.82       363\n",
    "       macro avg       0.76      0.80      0.78       363\n",
    "       weighted avg    0.84      0.82      0.83       363\n",
    "       \n",
    "                                not_other_analyst_classified\tother_analyst_classified\n",
    "        not_other_analyst_real\t            242\t                          36\n",
    "        other_analyst_real\t                30\t                           55\n",
    "        \n",
    "        AUC 0.8677480607627667\n",
    "        \n",
    "       \n",
    "2. The top 20 positive factors are:\n",
    "    - job_type: Full time\n",
    "    - job_skill: web development, juniper, nonprofit, process improvement, forecasting, finance, requirements analysis, project management, customer satisfaction, olap, marketing communications, bloomberg, web applications\n",
    "    - job_category: professional services, finance, healthcare / pharmaceutical, banking and finance, general management, consulting\n",
    "    - job_level: 2 junior executive\n",
    "    \n",
    "32. The top 20 negative factors are:\n",
    "    - job_category:  engineering, public / civil service, sales / retail, logistics / supply chain, advertising / media, general work\n",
    "    - job_skill: research, marketing research, editing, solution architecture, web services, team management, database design, cloud computing, c\t-0.120485, t-sql, start-ups, team leadership\n",
    "    - job_level: 5.0 professional , 7.0 middle management"
   ]
  },
  {
   "cell_type": "code",
   "execution_count": null,
   "metadata": {},
   "outputs": [],
   "source": [
    "# create pd for the feacture coefs with coresponding feature name and category\n",
    "logR_coef = pd.DataFrame(logR_q2.coef_.T, index=X_q2.columns, columns=['feature_importance'])\n",
    "feature_type = []\n",
    "for i, feature in enumerate([job_level_df, job_cate_df, job_skill_df,job_type_df]):\n",
    "    feature_type.extend([i for _ in feature.nunique()])\n",
    "    \n",
    "logR_coef.insert(loc=1, value=feature_type, column='feature_type')\n",
    "logR_coef.feature_type = logR_coef.feature_type.map({0:'job_level_df', 1:'job_cate_df', 2:'job_skill_df', 3:'job_type_df'})\n",
    "\n",
    "# get feature importance distribution\n",
    "logR_coef[logR_coef.feature_importance.abs()>0].hist()"
   ]
  },
  {
   "cell_type": "code",
   "execution_count": null,
   "metadata": {},
   "outputs": [],
   "source": [
    "logR_coef.iloc[np.argsort(logR_coef.feature_importance)[::-1]].head(20)"
   ]
  },
  {
   "cell_type": "code",
   "execution_count": null,
   "metadata": {},
   "outputs": [],
   "source": [
    "logR_coef.iloc[np.argsort(logR_coef.feature_importance)].head(20)"
   ]
  },
  {
   "cell_type": "markdown",
   "metadata": {},
   "source": [
    "# Bonus\n",
    "Your boss would rather tell a client incorrectly that they would get a lower salary job than tell a client incorrectly that they would get a high salary job. Adjust one of your models to ease his mind, and explain what it is doing and any tradeoffs. Plot the ROC curve."
   ]
  },
  {
   "cell_type": "code",
   "execution_count": null,
   "metadata": {},
   "outputs": [],
   "source": [
    "# create scoring function. That predict a wrong higher salary will give 10 times loss than predict a wrong lower salary,\n",
    "# $10000 vs $1000\n",
    "def my_scorer(y_true, y_pred):\n",
    "    error = 0\n",
    "    for i, y in enumerate(y_true):\n",
    "        if y_pred[i]< y:\n",
    "            error += 1000\n",
    "        elif y_pred[i]>y:\n",
    "            error += 10000\n",
    "    return error\n",
    "my_scorer_scorer = make_scorer(my_scorer, greater_is_better=False)"
   ]
  },
  {
   "cell_type": "code",
   "execution_count": null,
   "metadata": {},
   "outputs": [],
   "source": [
    "# # model 5 GradientBoostingClassifier with balanced weight\n",
    "\n",
    "imb_pipleine_bonus = imPipeline([('smt', SMOTE()), ('estimator',GradientBoostingClassifier())])\n",
    "\n",
    "parameter_bonus = {\n",
    "    'estimator__learning_rate': [0.1, 0.5, 1],\n",
    "    'estimator__max_depth': [20, 50, 70],\n",
    "    'estimator__max_features': ['auto', 'log2', 0.4],\n",
    "    'estimator__max_leaf_nodes': [3, 5, 10 ],\n",
    "    'estimator__min_samples_leaf': [1,3, 5],\n",
    "    'estimator__min_samples_split': [2, 4, 6],\n",
    "    'estimator__n_estimators': [ 10, 50, 100]\n",
    "}\n",
    "\n",
    "imb_pipleine_gs_bonus = GridSearchCV(imb_pipleine_bonus, parameter_bonus,scoring=my_scorer_scorer ,cv=5, n_jobs=7, verbose=1)\n",
    "imb_pipleine_gs_bonus.fit(X_train, y_train)\n",
    "y_pred = imb_pipleine_gs_bonus.predict(X_test)\n",
    "print(classification_report(y_test, y_pred))"
   ]
  },
  {
   "cell_type": "code",
   "execution_count": null,
   "metadata": {},
   "outputs": [],
   "source": [
    "# with open('bonus.p', 'wb') as f:\n",
    "#     pickle.dump(imb_pipleine_gs_bonus, f)"
   ]
  },
  {
   "cell_type": "code",
   "execution_count": null,
   "metadata": {},
   "outputs": [],
   "source": [
    "with open('bonus.p', 'rb') as f:\n",
    "    imb_pipleine_gs_bonus = pickle.load(f)"
   ]
  },
  {
   "cell_type": "code",
   "execution_count": null,
   "metadata": {},
   "outputs": [],
   "source": [
    "y_pred = imb_pipleine_gs_bonus.predict(X_test)\n",
    "print(classification_report(y_test, y_pred))"
   ]
  },
  {
   "cell_type": "code",
   "execution_count": null,
   "metadata": {},
   "outputs": [],
   "source": []
  }
 ],
 "metadata": {
  "kernelspec": {
   "display_name": "Python 3",
   "language": "python",
   "name": "python3"
  },
  "language_info": {
   "codemirror_mode": {
    "name": "ipython",
    "version": 3
   },
   "file_extension": ".py",
   "mimetype": "text/x-python",
   "name": "python",
   "nbconvert_exporter": "python",
   "pygments_lexer": "ipython3",
   "version": "3.6.7"
  }
 },
 "nbformat": 4,
 "nbformat_minor": 2
}
