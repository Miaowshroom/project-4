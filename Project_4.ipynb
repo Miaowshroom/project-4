{
 "cells": [
  {
   "cell_type": "markdown",
   "metadata": {},
   "source": [
    "# ![](https://ga-dash.s3.amazonaws.com/production/assets/logo-9f88ae6c9c3871690e33280fcf557f33.png) \n",
    "# Project 4: Web Scraping Job Postings\n",
    "\n",
    "## Business Case Overview\n",
    "\n",
    "You're working as a data scientist for a contracting firm that's rapidly expanding. Now that they have their most valuable employee (you!), they need to leverage data to win more contracts. Your firm offers technology and scientific solutions and wants to be competitive in the hiring market. Your principal has two main objectives:\n",
    "\n",
    "   1. Determine the industry factors that are most important in predicting the salary amounts for these data.\n",
    "   2. Determine the factors that distinguish job categories and titles from each other. For example, can required skills accurately predict job title?\n",
    "\n",
    "To limit the scope, your principal has suggested that you *focus on data-related job postings*, e.g. data scientist, data analyst, research scientist, business intelligence, and any others you might think of. You may also want to decrease the scope by *limiting your search to a single region.*\n",
    "\n",
    "Hint: Aggregators like [Indeed.com](https://www.indeed.com) regularly pool job postings from a variety of markets and industries. \n",
    "\n",
    "**Goal:** Scrape your own data from a job aggregation tool like Indeed.com in order to collect the data to best answer these two questions.\n"
   ]
  },
  {
   "cell_type": "markdown",
   "metadata": {},
   "source": [
    "# Job scrapping\n",
    "\n",
    "1. Job are scraped from mycareerfutures.sg\n",
    "2. Job searched with keyword data\n",
    "3. The job scrapping code can be found in the folder datajob\n",
    "4. Totally 4000+ jobs are scrapted\n",
    "5. To match the scope of the project, kept 1000+ jobs that can be determined as data related job from their job title\n"
   ]
  },
  {
   "cell_type": "code",
   "execution_count": 1,
   "metadata": {},
   "outputs": [],
   "source": [
    "import pandas as pd\n",
    "import numpy as np\n",
    "from sklearn.model_selection import train_test_split, cross_val_score, GridSearchCV\n",
    "from sklearn.linear_model import RidgeCV, LassoCV, HuberRegressor, LogisticRegressionCV, LogisticRegression\n",
    "from sklearn.metrics import classification_report\n",
    "from sklearn.ensemble import GradientBoostingClassifier, RandomForestClassifier\n",
    "from sklearn.naive_bayes import MultinomialNB\n",
    "from sklearn.preprocessing import StandardScaler\n",
    "from sklearn.feature_extraction.text import CountVectorizer, TfidfVectorizer\n",
    "from nltk.stem import PorterStemmer, SnowballStemmer, WordNetLemmatizer\n",
    "from sklearn.feature_extraction.stop_words import ENGLISH_STOP_WORDS\n",
    "from textblob import TextBlob\n",
    "from imblearn.pipeline import Pipeline as imPipeline\n",
    "from imblearn.over_sampling import SMOTE\n",
    "import seaborn as sns\n",
    "import pickle\n",
    "%matplotlib inline\n",
    "sns.set_style('white')"
   ]
  },
  {
   "cell_type": "code",
   "execution_count": 2,
   "metadata": {
    "scrolled": true
   },
   "outputs": [
    {
     "data": {
      "text/html": [
       "<div>\n",
       "<style scoped>\n",
       "    .dataframe tbody tr th:only-of-type {\n",
       "        vertical-align: middle;\n",
       "    }\n",
       "\n",
       "    .dataframe tbody tr th {\n",
       "        vertical-align: top;\n",
       "    }\n",
       "\n",
       "    .dataframe thead th {\n",
       "        text-align: right;\n",
       "    }\n",
       "</style>\n",
       "<table border=\"1\" class=\"dataframe\">\n",
       "  <thead>\n",
       "    <tr style=\"text-align: right;\">\n",
       "      <th></th>\n",
       "      <th>company_name</th>\n",
       "      <th>job_categories</th>\n",
       "      <th>job_experience</th>\n",
       "      <th>job_level</th>\n",
       "      <th>job_link</th>\n",
       "      <th>job_location</th>\n",
       "      <th>job_requirement</th>\n",
       "      <th>job_role_resp</th>\n",
       "      <th>job_salaries_max</th>\n",
       "      <th>job_salaries_min</th>\n",
       "      <th>job_salaries_type</th>\n",
       "      <th>job_skills</th>\n",
       "      <th>job_title</th>\n",
       "      <th>job_type</th>\n",
       "    </tr>\n",
       "  </thead>\n",
       "  <tbody>\n",
       "    <tr>\n",
       "      <th>0</th>\n",
       "      <td>NTT DATA SINGAPORE PTE. LTD.</td>\n",
       "      <td>Banking and Finance, Information Technology</td>\n",
       "      <td>NaN</td>\n",
       "      <td>Manager, Professional</td>\n",
       "      <td>https://www.mycareersfuture.sg/job/project-man...</td>\n",
       "      <td>KEPPEL TOWERS, 10 HOE CHIANG ROAD 089315</td>\n",
       "      <td>Project management,/Scrum Master/Business Anal...</td>\n",
       "      <td>We are looking for versatile project manager w...</td>\n",
       "      <td>$9,200</td>\n",
       "      <td>$7,500</td>\n",
       "      <td>Monthly</td>\n",
       "      <td>Budgets,Business Analysis,Business Development...</td>\n",
       "      <td>Project Manager- Data Security</td>\n",
       "      <td>Contract</td>\n",
       "    </tr>\n",
       "    <tr>\n",
       "      <th>1</th>\n",
       "      <td>NTUC ENTERPRISE CO-OPERATIVE LTD</td>\n",
       "      <td>Education and Training, Information Technology</td>\n",
       "      <td>NaN</td>\n",
       "      <td>Middle Management</td>\n",
       "      <td>https://www.mycareersfuture.sg/job/vice-presid...</td>\n",
       "      <td>NaN</td>\n",
       "      <td>Must be highly technical/strong hardware and s...</td>\n",
       "      <td>COMPANY DESCRIPTION,NTUC Enterprise is the hol...</td>\n",
       "      <td>$13,000</td>\n",
       "      <td>$8,000</td>\n",
       "      <td>Monthly</td>\n",
       "      <td>Business Analysis,Business Intelligence,Data A...</td>\n",
       "      <td>Vice President, Enterprise Data Warehouse</td>\n",
       "      <td>Full Time</td>\n",
       "    </tr>\n",
       "    <tr>\n",
       "      <th>2</th>\n",
       "      <td>BIOFOURMIS SINGAPORE PTE. LTD.</td>\n",
       "      <td>Engineering</td>\n",
       "      <td>NaN</td>\n",
       "      <td>Senior Executive</td>\n",
       "      <td>https://www.mycareersfuture.sg/job/big-data-en...</td>\n",
       "      <td>VISION EXCHANGE, 2 VENTURE DRIVE 608526</td>\n",
       "      <td>~,Advanced working SQL knowledge and experienc...</td>\n",
       "      <td>We are looking for a savvy Data Engineer to jo...</td>\n",
       "      <td>$6,700</td>\n",
       "      <td>$5,200</td>\n",
       "      <td>Monthly</td>\n",
       "      <td>Agile Methodologies,C#,C++,HTML,Integration,Ja...</td>\n",
       "      <td>Big Data Engineer</td>\n",
       "      <td>Permanent</td>\n",
       "    </tr>\n",
       "  </tbody>\n",
       "</table>\n",
       "</div>"
      ],
      "text/plain": [
       "                       company_name  \\\n",
       "0      NTT DATA SINGAPORE PTE. LTD.   \n",
       "1  NTUC ENTERPRISE CO-OPERATIVE LTD   \n",
       "2    BIOFOURMIS SINGAPORE PTE. LTD.   \n",
       "\n",
       "                                   job_categories job_experience  \\\n",
       "0     Banking and Finance, Information Technology            NaN   \n",
       "1  Education and Training, Information Technology            NaN   \n",
       "2                                     Engineering            NaN   \n",
       "\n",
       "               job_level                                           job_link  \\\n",
       "0  Manager, Professional  https://www.mycareersfuture.sg/job/project-man...   \n",
       "1      Middle Management  https://www.mycareersfuture.sg/job/vice-presid...   \n",
       "2       Senior Executive  https://www.mycareersfuture.sg/job/big-data-en...   \n",
       "\n",
       "                               job_location  \\\n",
       "0  KEPPEL TOWERS, 10 HOE CHIANG ROAD 089315   \n",
       "1                                       NaN   \n",
       "2   VISION EXCHANGE, 2 VENTURE DRIVE 608526   \n",
       "\n",
       "                                     job_requirement  \\\n",
       "0  Project management,/Scrum Master/Business Anal...   \n",
       "1  Must be highly technical/strong hardware and s...   \n",
       "2  ~,Advanced working SQL knowledge and experienc...   \n",
       "\n",
       "                                       job_role_resp job_salaries_max  \\\n",
       "0  We are looking for versatile project manager w...           $9,200   \n",
       "1  COMPANY DESCRIPTION,NTUC Enterprise is the hol...          $13,000   \n",
       "2  We are looking for a savvy Data Engineer to jo...           $6,700   \n",
       "\n",
       "  job_salaries_min job_salaries_type  \\\n",
       "0           $7,500           Monthly   \n",
       "1           $8,000           Monthly   \n",
       "2           $5,200           Monthly   \n",
       "\n",
       "                                          job_skills  \\\n",
       "0  Budgets,Business Analysis,Business Development...   \n",
       "1  Business Analysis,Business Intelligence,Data A...   \n",
       "2  Agile Methodologies,C#,C++,HTML,Integration,Ja...   \n",
       "\n",
       "                                   job_title   job_type  \n",
       "0             Project Manager- Data Security   Contract  \n",
       "1  Vice President, Enterprise Data Warehouse  Full Time  \n",
       "2                          Big Data Engineer  Permanent  "
      ]
     },
     "execution_count": 2,
     "metadata": {},
     "output_type": "execute_result"
    }
   ],
   "source": [
    "# load the job scraped from mycareerfuture.sg\n",
    "job_post = pd.read_csv('D:\\GA\\project_submission\\project-4\\datajob\\datajob\\datajob_0430_250pages.csv')\n",
    "job_post.head(3)"
   ]
  },
  {
   "cell_type": "code",
   "execution_count": 3,
   "metadata": {
    "scrolled": true
   },
   "outputs": [
    {
     "data": {
      "text/plain": [
       "(4013, 14)"
      ]
     },
     "execution_count": 3,
     "metadata": {},
     "output_type": "execute_result"
    }
   ],
   "source": [
    "job_post.shape"
   ]
  },
  {
   "cell_type": "code",
   "execution_count": 4,
   "metadata": {},
   "outputs": [
    {
     "data": {
      "text/plain": [
       "company_name           21\n",
       "job_categories          3\n",
       "job_experience       3752\n",
       "job_level              21\n",
       "job_link                0\n",
       "job_location          676\n",
       "job_requirement       108\n",
       "job_role_resp           0\n",
       "job_salaries_max        0\n",
       "job_salaries_min        0\n",
       "job_salaries_type       0\n",
       "job_skills              0\n",
       "job_title              18\n",
       "job_type               12\n",
       "dtype: int64"
      ]
     },
     "execution_count": 4,
     "metadata": {},
     "output_type": "execute_result"
    }
   ],
   "source": [
    "# checking missing data point\n",
    "job_post.isnull().sum()"
   ]
  },
  {
   "cell_type": "code",
   "execution_count": 5,
   "metadata": {},
   "outputs": [],
   "source": [
    "# remove the data without title, without requirement of experience\n",
    "job_post.drop(index=job_post[job_post.job_title.isnull()].index, inplace=True)\n",
    "job_post.drop(index=job_post[job_post.job_level.isnull()].index, inplace=True)"
   ]
  },
  {
   "cell_type": "code",
   "execution_count": 6,
   "metadata": {},
   "outputs": [
    {
     "data": {
      "text/plain": [
       "company_name            3\n",
       "job_categories          0\n",
       "job_experience       3721\n",
       "job_level               0\n",
       "job_link                0\n",
       "job_location          662\n",
       "job_requirement        95\n",
       "job_role_resp           0\n",
       "job_salaries_max        0\n",
       "job_salaries_min        0\n",
       "job_salaries_type       0\n",
       "job_skills              0\n",
       "job_title               0\n",
       "job_type                0\n",
       "dtype: int64"
      ]
     },
     "execution_count": 6,
     "metadata": {},
     "output_type": "execute_result"
    }
   ],
   "source": [
    "job_post.isnull().sum()"
   ]
  },
  {
   "cell_type": "code",
   "execution_count": 7,
   "metadata": {},
   "outputs": [
    {
     "data": {
      "text/plain": [
       "Monthly     3852\n",
       "Annually     130\n",
       "Name: job_salaries_type, dtype: int64"
      ]
     },
     "execution_count": 7,
     "metadata": {},
     "output_type": "execute_result"
    }
   ],
   "source": [
    "job_post.job_salaries_type.value_counts()"
   ]
  },
  {
   "cell_type": "code",
   "execution_count": 8,
   "metadata": {
    "scrolled": true
   },
   "outputs": [],
   "source": [
    "job_post.job_salaries_min = job_post.job_salaries_min.map(lambda x: int(x[1:].replace(',', '')))\n",
    "job_post.job_salaries_max = job_post.job_salaries_max.map(lambda x: int(x[1:].replace(',', '')))\n",
    "\n",
    "job_post.loc[job_post.job_salaries_type=='Annually',['job_salaries_min', 'job_salaries_max']] = job_post.loc[job_post.job_salaries_type=='Annually',['job_salaries_min', 'job_salaries_max']]/12        \n",
    "job_post['job_salaries_mean'] = (job_post.job_salaries_min + job_post.job_salaries_max)/2\n",
    "job_post['job_salaries_range'] = (job_post.job_salaries_max - job_post.job_salaries_min)"
   ]
  },
  {
   "cell_type": "code",
   "execution_count": 9,
   "metadata": {},
   "outputs": [],
   "source": [
    "job_post.drop_duplicates(keep='first', inplace=True)\n",
    "job_post.reset_index(drop=True, inplace=True)"
   ]
  },
  {
   "cell_type": "code",
   "execution_count": 10,
   "metadata": {},
   "outputs": [
    {
     "data": {
      "text/plain": [
       "(3970, 16)"
      ]
     },
     "execution_count": 10,
     "metadata": {},
     "output_type": "execute_result"
    }
   ],
   "source": [
    "job_post.shape"
   ]
  },
  {
   "cell_type": "markdown",
   "metadata": {},
   "source": [
    "## Label job title"
   ]
  },
  {
   "cell_type": "code",
   "execution_count": 11,
   "metadata": {},
   "outputs": [],
   "source": [
    "title_stop = list(ENGLISH_STOP_WORDS)\n",
    "title_stop.extend(['3000', '3500', '4000', 'days', 'contract', '1-year', 'orchard', \n",
    "                   'west', 'central', 'week', 'year','i2r','star', 'months','workday', \n",
    "                   'day', 'shift', 'ot', 'joo', 'koon', 'years','xaxis','workforce'])"
   ]
  },
  {
   "cell_type": "code",
   "execution_count": 12,
   "metadata": {},
   "outputs": [],
   "source": [
    "# lemmatizer = WordNetLemmatizer()\n",
    "# stemmer = PorterStemmer()\n",
    "# # lemmatized_title= job_post.job_title.map(lambda x: ' '.join([stemmer.stem(w) for w in TextBlob(x.lower()).words]))"
   ]
  },
  {
   "cell_type": "code",
   "execution_count": 13,
   "metadata": {},
   "outputs": [
    {
     "data": {
      "text/plain": [
       "CountVectorizer(analyzer='word', binary=False, decode_error='strict',\n",
       "        dtype=<class 'numpy.int64'>, encoding='utf-8', input='content',\n",
       "        lowercase=True, max_df=1.0, max_features=None, min_df=13,\n",
       "        ngram_range=(2, 3), preprocessor=None,\n",
       "        stop_words=['elsewhere', 'everything', 'except', 'hence', 'whither', 'due', 'yourselves', 'ie', 'seeming', 'than', 'yourself', 'must', 'twenty', 'should', 'themselves', 'seemed', 'where', 'below', 'anyone', 'less', 'i', 'therein', 'done', 'perhaps', 'when', 'eg', 'beside', 'yours', 'con', 'from', 'n...r', 'star', 'months', 'workday', 'day', 'shift', 'ot', 'joo', 'koon', 'years', 'xaxis', 'workforce'],\n",
       "        strip_accents=None, token_pattern='\\\\b[^\\\\d\\\\W_]+\\\\b',\n",
       "        tokenizer=None, vocabulary=None)"
      ]
     },
     "execution_count": 13,
     "metadata": {},
     "output_type": "execute_result"
    }
   ],
   "source": [
    "countVect = CountVectorizer(ngram_range=(2,3), stop_words=title_stop, token_pattern=r'\\b[^\\d\\W_]+\\b', min_df=max(int(len(job_post)/300), 5))\n",
    "countVect.fit(job_post.job_title)"
   ]
  },
  {
   "cell_type": "code",
   "execution_count": 14,
   "metadata": {},
   "outputs": [
    {
     "data": {
      "text/plain": [
       "software engineer           96\n",
       "data scientist              89\n",
       "data engineer               82\n",
       "project manager             65\n",
       "business analyst            63\n",
       "research fellow             61\n",
       "data analyst                52\n",
       "product manager             49\n",
       "admin assistant             48\n",
       "senior manager              48\n",
       "data analytics              48\n",
       "account manager             48\n",
       "research engineer           45\n",
       "big data                    43\n",
       "accounts executive          41\n",
       "assistant manager           38\n",
       "senior software             36\n",
       "marketing manager           36\n",
       "t o                         36\n",
       "customer service            35\n",
       "research associate          34\n",
       "technology operations       32\n",
       "senior engineer             31\n",
       "network engineer            31\n",
       "accounts assistant          30\n",
       "senior executive            28\n",
       "research assistant          28\n",
       "senior data                 27\n",
       "operations executive        27\n",
       "software developer          26\n",
       "admin executive             25\n",
       "vice president              24\n",
       "senior software engineer    24\n",
       "business development        23\n",
       "key account                 23\n",
       "solution architect          23\n",
       "marketing executive         22\n",
       "senior research             22\n",
       "data science                22\n",
       "senior associate            22\n",
       "key account manager         21\n",
       "administrative assistant    21\n",
       "support engineer            21\n",
       "program manager             20\n",
       "information technology      19\n",
       "engineer senior             19\n",
       "senior consultant           19\n",
       "accounts officer            19\n",
       "river valley                19\n",
       "finance manager             19\n",
       "middle office               18\n",
       "engineer data               17\n",
       "sales admin                 17\n",
       "consumer banking            17\n",
       "operations manager          17\n",
       "development manager         17\n",
       "senior analyst              16\n",
       "human resource              16\n",
       "clinical research           16\n",
       "account executive           16\n",
       "dtype: int64"
      ]
     },
     "execution_count": 14,
     "metadata": {},
     "output_type": "execute_result"
    }
   ],
   "source": [
    "# take a look of the high popular job key words\n",
    "pd.DataFrame(countVect.transform(job_post.job_title).todense(), columns=countVect.get_feature_names()).sum(axis=0).sort_values(ascending=False).head(60)"
   ]
  },
  {
   "cell_type": "code",
   "execution_count": 15,
   "metadata": {},
   "outputs": [],
   "source": [
    "job_post['job_label'] = np.nan"
   ]
  },
  {
   "cell_type": "code",
   "execution_count": 16,
   "metadata": {},
   "outputs": [],
   "source": [
    "# takindata_entryg all researchers\n",
    "job_post.loc[job_post.job_title.str.lower().str.contains('research'), 'job_label'] = 'Research'"
   ]
  },
  {
   "cell_type": "code",
   "execution_count": 17,
   "metadata": {},
   "outputs": [],
   "source": [
    "# take data scientist with the following keywords, if labeled before do not label again\n",
    "job_post.loc[job_post.job_title.str.lower().str.contains('data scientist') & job_post.job_label.isnull(), 'job_label'] = 'data_scientist'\n",
    "job_post.loc[job_post.job_title.str.lower().str.contains('data science') & job_post.job_label.isnull(), 'job_label'] = 'data_scientist'\n",
    "job_post.loc[job_post.job_title.str.lower().str.contains('machine learning') & job_post.job_label.isnull(), 'job_label'] = 'data_scientist'\n"
   ]
  },
  {
   "cell_type": "code",
   "execution_count": 18,
   "metadata": {},
   "outputs": [],
   "source": [
    "# solution architect \n",
    "job_post.loc[job_post.job_title.str.lower().str.contains('architect') & job_post.job_label.isnull(), 'job_label'] = 'solution_architect'\n",
    "job_post.loc[job_post.job_title.str.lower().str.contains('architecture') & job_post.job_label.isnull(), 'job_label'] = 'solution_architect'\n",
    "job_post.loc[job_post.job_title.str.lower().str.contains('solution') & job_post.job_label.isnull(), 'job_label'] = 'solution_architect'\n"
   ]
  },
  {
   "cell_type": "code",
   "execution_count": 19,
   "metadata": {},
   "outputs": [],
   "source": [
    "# take data enginner with the following keywords\n",
    "job_post.loc[job_post.job_title.str.lower().str.contains('data engineer') & job_post.job_label.isnull(), 'job_label'] = 'data_engineer'\n",
    "job_post.loc[job_post.job_title.str.lower().str.contains('data engineering') & job_post.job_label.isnull(), 'job_label'] = 'data_engineer'\n",
    "job_post.loc[job_post.job_title.str.lower().str.contains('data migration') & job_post.job_label.isnull(), 'job_label'] = 'data_engineer'\n",
    "job_post.loc[job_post.job_title.str.lower().str.contains('security') & job_post.job_label.isnull(), 'job_label'] = 'data_engineer'\n",
    "job_post.loc[job_post.job_title.str.lower().str.contains('cloud') & job_post.job_label.isnull(), 'job_label'] = 'data_engineer'\n",
    "job_post.loc[job_post.job_title.str.lower().str.contains('system engineer') & job_post.job_label.isnull(), 'job_label'] = 'data_engineer'\n",
    "job_post.loc[job_post.job_title.str.lower().str.contains('network engineer') & job_post.job_label.isnull(), 'job_label'] = 'data_engineer'\n",
    "\n",
    "\n"
   ]
  },
  {
   "cell_type": "code",
   "execution_count": 20,
   "metadata": {},
   "outputs": [],
   "source": [
    "# take analyst job with the following keywords\n",
    "\n",
    "job_post.loc[job_post.job_title.str.lower().str.contains('data analytics') & job_post.job_label.isnull(), 'job_label'] = 'data_analyst'\n",
    "job_post.loc[job_post.job_title.str.lower().str.contains('data analyst') & job_post.job_label.isnull(), 'job_label'] = 'data_analyst'\n",
    "job_post.loc[job_post.job_title.str.lower().str.contains('data analysis') & job_post.job_label.isnull(), 'job_label'] = 'data_analyst'\n",
    "\n",
    "# data_analyst = job_post[job_post.job_title.str.lower().str.contains('data analytics')]\n",
    "# data_analyst = pd.concat([data_analyst,job_post[job_post.job_title.str.lower().str.contains('data analyst')]])\n",
    "# data_analyst = pd.concat([data_analyst,job_post[job_post.job_title.str.lower().str.contains('data analysis')]])\n",
    "# data_analyst.drop_duplicates(keep='first', inplace=True)\n",
    "\n",
    "\n",
    "# data_analyst.shape"
   ]
  },
  {
   "cell_type": "code",
   "execution_count": 21,
   "metadata": {
    "scrolled": true
   },
   "outputs": [],
   "source": [
    "# taking all other analysis as other analyst\n",
    "\n",
    "job_post.loc[job_post.job_title.str.lower().str.contains('analyst') & job_post.job_label.isnull(), 'job_label'] = 'other_analyst'\n",
    "job_post.loc[job_post.job_title.str.lower().str.contains('analysis') & job_post.job_label.isnull(), 'job_label'] = 'other_analyst'\n",
    "job_post.loc[job_post.job_title.str.lower().str.contains('analytics') & job_post.job_label.isnull(), 'job_label'] = 'other_analyst'\n"
   ]
  },
  {
   "cell_type": "code",
   "execution_count": 22,
   "metadata": {},
   "outputs": [],
   "source": [
    "# taking all other analysis as other analyst\n",
    "job_post.loc[job_post.job_title.str.lower().str.contains('data entry') & job_post.job_label.isnull(), 'job_label'] = 'entry'\n"
   ]
  },
  {
   "cell_type": "code",
   "execution_count": 23,
   "metadata": {},
   "outputs": [
    {
     "data": {
      "text/plain": [
       "other_analyst         288\n",
       "data_engineer         238\n",
       "Research              236\n",
       "solution_architect    123\n",
       "data_scientist        119\n",
       "data_analyst           81\n",
       "entry                  14\n",
       "Name: job_label, dtype: int64"
      ]
     },
     "execution_count": 23,
     "metadata": {},
     "output_type": "execute_result"
    }
   ],
   "source": [
    "job_post.job_label.value_counts()"
   ]
  },
  {
   "cell_type": "code",
   "execution_count": 24,
   "metadata": {},
   "outputs": [],
   "source": [
    "q1_jobs = job_post[job_post.job_label.notnull()]"
   ]
  },
  {
   "cell_type": "code",
   "execution_count": 25,
   "metadata": {},
   "outputs": [],
   "source": [
    "salary_mean = q1_jobs.job_salaries_mean.median()"
   ]
  },
  {
   "cell_type": "code",
   "execution_count": 26,
   "metadata": {},
   "outputs": [],
   "source": [
    "salary_mean_std = q1_jobs.job_salaries_mean.std()"
   ]
  },
  {
   "cell_type": "code",
   "execution_count": 27,
   "metadata": {},
   "outputs": [],
   "source": [
    "middle_salary = [(salary_mean - salary_mean_std/2), (salary_mean + salary_mean_std/2)]"
   ]
  },
  {
   "cell_type": "code",
   "execution_count": 28,
   "metadata": {},
   "outputs": [
    {
     "data": {
      "text/plain": [
       "[4300.015609448624, 7699.984390551376]"
      ]
     },
     "execution_count": 28,
     "metadata": {},
     "output_type": "execute_result"
    }
   ],
   "source": [
    "middle_salary"
   ]
  },
  {
   "cell_type": "code",
   "execution_count": 29,
   "metadata": {
    "scrolled": true
   },
   "outputs": [
    {
     "name": "stderr",
     "output_type": "stream",
     "text": [
      "C:\\Users\\huwenmiao\\Anaconda3\\envs\\gadsi36\\lib\\site-packages\\ipykernel_launcher.py:1: SettingWithCopyWarning: \n",
      "A value is trying to be set on a copy of a slice from a DataFrame.\n",
      "Try using .loc[row_indexer,col_indexer] = value instead\n",
      "\n",
      "See the caveats in the documentation: http://pandas.pydata.org/pandas-docs/stable/indexing.html#indexing-view-versus-copy\n",
      "  \"\"\"Entry point for launching an IPython kernel.\n"
     ]
    }
   ],
   "source": [
    "q1_jobs['salary_cate'] = np.nan"
   ]
  },
  {
   "cell_type": "code",
   "execution_count": 30,
   "metadata": {},
   "outputs": [],
   "source": [
    "def salary_to_cate(x, middle_salary = middle_salary ):\n",
    "    if x<middle_salary[0]:\n",
    "        return 0\n",
    "    elif x<middle_salary[1]:\n",
    "        return 1\n",
    "    else:\n",
    "        return 2"
   ]
  },
  {
   "cell_type": "code",
   "execution_count": 31,
   "metadata": {},
   "outputs": [
    {
     "name": "stderr",
     "output_type": "stream",
     "text": [
      "C:\\Users\\huwenmiao\\Anaconda3\\envs\\gadsi36\\lib\\site-packages\\pandas\\core\\generic.py:4405: SettingWithCopyWarning: \n",
      "A value is trying to be set on a copy of a slice from a DataFrame.\n",
      "Try using .loc[row_indexer,col_indexer] = value instead\n",
      "\n",
      "See the caveats in the documentation: http://pandas.pydata.org/pandas-docs/stable/indexing.html#indexing-view-versus-copy\n",
      "  self[name] = value\n"
     ]
    }
   ],
   "source": [
    "q1_jobs.salary_cate = q1_jobs.job_salaries_mean.map(salary_to_cate)"
   ]
  },
  {
   "cell_type": "code",
   "execution_count": 32,
   "metadata": {},
   "outputs": [
    {
     "data": {
      "text/plain": [
       "1    510\n",
       "2    322\n",
       "0    267\n",
       "Name: salary_cate, dtype: int64"
      ]
     },
     "execution_count": 32,
     "metadata": {},
     "output_type": "execute_result"
    }
   ],
   "source": [
    "q1_jobs.salary_cate.value_counts()"
   ]
  },
  {
   "cell_type": "code",
   "execution_count": 33,
   "metadata": {},
   "outputs": [
    {
     "data": {
      "text/plain": [
       "<matplotlib.axes._subplots.AxesSubplot at 0x26e66d489e8>"
      ]
     },
     "execution_count": 33,
     "metadata": {},
     "output_type": "execute_result"
    },
    {
     "data": {
      "image/png": "[encoded data removed]",
      "text/plain": [
       "<Figure size 432x288 with 1 Axes>"
      ]
     },
     "metadata": {
      "needs_background": "light"
     },
     "output_type": "display_data"
    }
   ],
   "source": [
    "q1_jobs.job_salaries_mean.hist(bins=40)"
   ]
  },
  {
   "cell_type": "markdown",
   "metadata": {},
   "source": [
    "### QUESTION 1: Factors that impact salary\n",
    "\n",
    "To predict salary you will be building either a classification or regression model, using features like the location, title, and summary of the job. If framing this as a regression problem, you will be estimating the listed salary amounts. You may instead choose to frame this as a classification problem, in which case you will create labels from these salaries (high vs. low salary, for example) according to thresholds (such as median salary).\n",
    "\n",
    "You have learned a variety of new skills and models that may be useful for this problem:\n",
    "- NLP\n",
    "- Unsupervised learning and dimensionality reduction techniques (PCA, clustering)\n",
    "- Ensemble methods and decision tree models\n",
    "- SVM models\n",
    "\n",
    "Whatever you decide to use, the most important thing is to justify your choices and interpret your results. *Communication of your process is key.* Note that most listings **DO NOT** come with salary information. You'll need to able to extrapolate or predict the expected salaries for these listings."
   ]
  },
  {
   "cell_type": "code",
   "execution_count": 34,
   "metadata": {
    "scrolled": true
   },
   "outputs": [
    {
     "data": {
      "text/plain": [
       "Index(['company_name', 'job_categories', 'job_experience', 'job_level',\n",
       "       'job_link', 'job_location', 'job_requirement', 'job_role_resp',\n",
       "       'job_salaries_max', 'job_salaries_min', 'job_salaries_type',\n",
       "       'job_skills', 'job_title', 'job_type', 'job_salaries_mean',\n",
       "       'job_salaries_range', 'job_label', 'salary_cate'],\n",
       "      dtype='object')"
      ]
     },
     "execution_count": 34,
     "metadata": {},
     "output_type": "execute_result"
    }
   ],
   "source": [
    "q1_jobs.columns"
   ]
  },
  {
   "cell_type": "code",
   "execution_count": 35,
   "metadata": {
    "scrolled": true
   },
   "outputs": [
    {
     "data": {
      "text/plain": [
       "company_name             0\n",
       "job_categories           0\n",
       "job_experience        1033\n",
       "job_level                0\n",
       "job_link                 0\n",
       "job_location           198\n",
       "job_requirement         39\n",
       "job_role_resp            0\n",
       "job_salaries_max         0\n",
       "job_salaries_min         0\n",
       "job_salaries_type        0\n",
       "job_skills               0\n",
       "job_title                0\n",
       "job_type                 0\n",
       "job_salaries_mean        0\n",
       "job_salaries_range       0\n",
       "job_label                0\n",
       "salary_cate              0\n",
       "dtype: int64"
      ]
     },
     "execution_count": 35,
     "metadata": {},
     "output_type": "execute_result"
    }
   ],
   "source": [
    "q1_jobs.isnull().sum()"
   ]
  },
  {
   "cell_type": "markdown",
   "metadata": {},
   "source": [
    "The choosen features are: job_categories, job_level, job_skills, job_label, job_type"
   ]
  },
  {
   "cell_type": "code",
   "execution_count": 36,
   "metadata": {
    "scrolled": true
   },
   "outputs": [
    {
     "data": {
      "text/html": [
       "<div>\n",
       "<style scoped>\n",
       "    .dataframe tbody tr th:only-of-type {\n",
       "        vertical-align: middle;\n",
       "    }\n",
       "\n",
       "    .dataframe tbody tr th {\n",
       "        vertical-align: top;\n",
       "    }\n",
       "\n",
       "    .dataframe thead th {\n",
       "        text-align: right;\n",
       "    }\n",
       "</style>\n",
       "<table border=\"1\" class=\"dataframe\">\n",
       "  <thead>\n",
       "    <tr style=\"text-align: right;\">\n",
       "      <th></th>\n",
       "      <th>job_salaries_max</th>\n",
       "      <th>job_salaries_min</th>\n",
       "      <th>job_salaries_mean</th>\n",
       "      <th>job_salaries_range</th>\n",
       "      <th>salary_cate</th>\n",
       "    </tr>\n",
       "    <tr>\n",
       "      <th>job_label</th>\n",
       "      <th></th>\n",
       "      <th></th>\n",
       "      <th></th>\n",
       "      <th></th>\n",
       "      <th></th>\n",
       "    </tr>\n",
       "  </thead>\n",
       "  <tbody>\n",
       "    <tr>\n",
       "      <th>entry</th>\n",
       "      <td>2021.428571</td>\n",
       "      <td>1500.000000</td>\n",
       "      <td>1760.714286</td>\n",
       "      <td>521.428571</td>\n",
       "      <td>0.000000</td>\n",
       "    </tr>\n",
       "    <tr>\n",
       "      <th>Research</th>\n",
       "      <td>6653.735876</td>\n",
       "      <td>3886.539548</td>\n",
       "      <td>5270.137712</td>\n",
       "      <td>2767.196328</td>\n",
       "      <td>0.622881</td>\n",
       "    </tr>\n",
       "    <tr>\n",
       "      <th>data_engineer</th>\n",
       "      <td>8346.158263</td>\n",
       "      <td>5210.840336</td>\n",
       "      <td>6778.499300</td>\n",
       "      <td>3135.317927</td>\n",
       "      <td>1.033613</td>\n",
       "    </tr>\n",
       "    <tr>\n",
       "      <th>data_analyst</th>\n",
       "      <td>8381.728395</td>\n",
       "      <td>5288.135802</td>\n",
       "      <td>6834.932099</td>\n",
       "      <td>3093.592593</td>\n",
       "      <td>1.086420</td>\n",
       "    </tr>\n",
       "    <tr>\n",
       "      <th>other_analyst</th>\n",
       "      <td>8396.829861</td>\n",
       "      <td>5359.280093</td>\n",
       "      <td>6878.054977</td>\n",
       "      <td>3037.549769</td>\n",
       "      <td>1.090278</td>\n",
       "    </tr>\n",
       "    <tr>\n",
       "      <th>data_scientist</th>\n",
       "      <td>9782.408964</td>\n",
       "      <td>6132.997199</td>\n",
       "      <td>7957.703081</td>\n",
       "      <td>3649.411765</td>\n",
       "      <td>1.369748</td>\n",
       "    </tr>\n",
       "    <tr>\n",
       "      <th>solution_architect</th>\n",
       "      <td>11122.178862</td>\n",
       "      <td>6872.894309</td>\n",
       "      <td>8997.536585</td>\n",
       "      <td>4249.284553</td>\n",
       "      <td>1.593496</td>\n",
       "    </tr>\n",
       "  </tbody>\n",
       "</table>\n",
       "</div>"
      ],
      "text/plain": [
       "                    job_salaries_max  job_salaries_min  job_salaries_mean  \\\n",
       "job_label                                                                   \n",
       "entry                    2021.428571       1500.000000        1760.714286   \n",
       "Research                 6653.735876       3886.539548        5270.137712   \n",
       "data_engineer            8346.158263       5210.840336        6778.499300   \n",
       "data_analyst             8381.728395       5288.135802        6834.932099   \n",
       "other_analyst            8396.829861       5359.280093        6878.054977   \n",
       "data_scientist           9782.408964       6132.997199        7957.703081   \n",
       "solution_architect      11122.178862       6872.894309        8997.536585   \n",
       "\n",
       "                    job_salaries_range  salary_cate  \n",
       "job_label                                            \n",
       "entry                       521.428571     0.000000  \n",
       "Research                   2767.196328     0.622881  \n",
       "data_engineer              3135.317927     1.033613  \n",
       "data_analyst               3093.592593     1.086420  \n",
       "other_analyst              3037.549769     1.090278  \n",
       "data_scientist             3649.411765     1.369748  \n",
       "solution_architect         4249.284553     1.593496  "
      ]
     },
     "execution_count": 36,
     "metadata": {},
     "output_type": "execute_result"
    }
   ],
   "source": [
    "q1_jobs.groupby(['job_label']).mean().sort_values(by='job_salaries_max')"
   ]
  },
  {
   "cell_type": "code",
   "execution_count": 37,
   "metadata": {},
   "outputs": [],
   "source": [
    "class MyTokenizer(object):\n",
    "    def __call__(self,s):\n",
    "        return  [WordNetLemmatizer().lemmatize(ele.strip()) for ele in s.split(',')]\n"
   ]
  },
  {
   "cell_type": "code",
   "execution_count": 38,
   "metadata": {},
   "outputs": [],
   "source": [
    "job_level_countVect = CountVectorizer(tokenizer=MyTokenizer(), analyzer='word', binary=True)"
   ]
  },
  {
   "cell_type": "code",
   "execution_count": 39,
   "metadata": {},
   "outputs": [
    {
     "data": {
      "text/plain": [
       "(1099, 9)"
      ]
     },
     "execution_count": 39,
     "metadata": {},
     "output_type": "execute_result"
    }
   ],
   "source": [
    "job_level_df= pd.DataFrame(job_level_countVect.fit_transform(q1_jobs.job_level).todense(),columns=job_level_countVect.get_feature_names() )\n",
    "job_level_df.shape"
   ]
  },
  {
   "cell_type": "code",
   "execution_count": 40,
   "metadata": {},
   "outputs": [
    {
     "data": {
      "text/plain": [
       "(1099, 8)"
      ]
     },
     "execution_count": 40,
     "metadata": {},
     "output_type": "execute_result"
    }
   ],
   "source": [
    "job_level_dict =dict( zip(job_level_countVect.get_feature_names(),[3,0,2,6,7,1,5,4,8]))\n",
    "job_level_dict\n",
    "job_level_digit = q1_jobs.job_level.map(lambda x: \\\n",
    "                                        np.ceil(np.mean([job_level_dict[ele.strip().lower()] \\\n",
    "                                                       for ele in x.split(',') if ele.strip!=''])))\n",
    "job_level_df = pd.get_dummies(job_level_digit)\n",
    "job_level_df = job_level_df.drop(columns=[0])\n",
    "job_level_df.reset_index(drop=True, inplace=True)\n",
    "job_level_df.shape"
   ]
  },
  {
   "cell_type": "code",
   "execution_count": 41,
   "metadata": {},
   "outputs": [],
   "source": [
    "job_cate_countVect = TfidfVectorizer(tokenizer=MyTokenizer(), analyzer='word')"
   ]
  },
  {
   "cell_type": "code",
   "execution_count": 42,
   "metadata": {},
   "outputs": [
    {
     "data": {
      "text/plain": [
       "(1099, 32)"
      ]
     },
     "execution_count": 42,
     "metadata": {},
     "output_type": "execute_result"
    }
   ],
   "source": [
    "job_cate_df= pd.DataFrame(job_cate_countVect.fit_transform(q1_jobs.job_categories).todense(),columns=job_cate_countVect.get_feature_names() )\n",
    "job_cate_df.shape"
   ]
  },
  {
   "cell_type": "code",
   "execution_count": 43,
   "metadata": {},
   "outputs": [],
   "source": [
    "job_skill_countVect = TfidfVectorizer(tokenizer=MyTokenizer(),  analyzer='word')"
   ]
  },
  {
   "cell_type": "code",
   "execution_count": 44,
   "metadata": {},
   "outputs": [
    {
     "data": {
      "text/plain": [
       "(1099, 761)"
      ]
     },
     "execution_count": 44,
     "metadata": {},
     "output_type": "execute_result"
    }
   ],
   "source": [
    "job_skill_df= pd.DataFrame(job_skill_countVect.fit_transform(q1_jobs.job_skills).todense(),columns=job_skill_countVect.get_feature_names() )\n",
    "job_skill_df.shape"
   ]
  },
  {
   "cell_type": "code",
   "execution_count": 45,
   "metadata": {},
   "outputs": [],
   "source": [
    "job_type_countVect = CountVectorizer(tokenizer=MyTokenizer(), analyzer='word', binary=True)"
   ]
  },
  {
   "cell_type": "code",
   "execution_count": 46,
   "metadata": {},
   "outputs": [
    {
     "data": {
      "text/plain": [
       "(1099, 8)"
      ]
     },
     "execution_count": 46,
     "metadata": {},
     "output_type": "execute_result"
    }
   ],
   "source": [
    "job_type_df= pd.DataFrame(job_type_countVect.fit_transform(q1_jobs.job_type).todense(),columns=job_type_countVect.get_feature_names() )\n",
    "job_type_df.shape"
   ]
  },
  {
   "cell_type": "code",
   "execution_count": 47,
   "metadata": {},
   "outputs": [],
   "source": [
    "job_label_df = pd.get_dummies(q1_jobs.job_label)\n",
    "job_label_df = job_label_df.drop(columns=['entry'])\n",
    "job_label_df.reset_index(drop=True, inplace=True)"
   ]
  },
  {
   "cell_type": "code",
   "execution_count": 48,
   "metadata": {},
   "outputs": [
    {
     "data": {
      "text/plain": [
       "(1099, 6)"
      ]
     },
     "execution_count": 48,
     "metadata": {},
     "output_type": "execute_result"
    }
   ],
   "source": [
    "job_label_df.shape"
   ]
  },
  {
   "cell_type": "code",
   "execution_count": 49,
   "metadata": {},
   "outputs": [],
   "source": [
    "X = pd.concat([job_level_df, job_cate_df, job_skill_df,job_type_df, job_label_df], axis=1)"
   ]
  },
  {
   "cell_type": "code",
   "execution_count": 50,
   "metadata": {
    "scrolled": true
   },
   "outputs": [
    {
     "data": {
      "text/plain": [
       "(1099, 815)"
      ]
     },
     "execution_count": 50,
     "metadata": {},
     "output_type": "execute_result"
    }
   ],
   "source": [
    "X.shape"
   ]
  },
  {
   "cell_type": "code",
   "execution_count": 51,
   "metadata": {},
   "outputs": [],
   "source": [
    "y = q1_jobs.salary_cate"
   ]
  },
  {
   "cell_type": "code",
   "execution_count": 52,
   "metadata": {},
   "outputs": [],
   "source": [
    "X_train, X_test, y_train, y_test = train_test_split(X, y, test_size=0.33)"
   ]
  },
  {
   "cell_type": "code",
   "execution_count": 53,
   "metadata": {},
   "outputs": [
    {
     "name": "stderr",
     "output_type": "stream",
     "text": [
      "C:\\Users\\huwenmiao\\Anaconda3\\envs\\gadsi36\\lib\\site-packages\\sklearn\\preprocessing\\data.py:625: DataConversionWarning: Data with input dtype uint8, int64, float64 were all converted to float64 by StandardScaler.\n",
      "  return self.partial_fit(X, y)\n",
      "C:\\Users\\huwenmiao\\Anaconda3\\envs\\gadsi36\\lib\\site-packages\\sklearn\\base.py:462: DataConversionWarning: Data with input dtype uint8, int64, float64 were all converted to float64 by StandardScaler.\n",
      "  return self.fit(X, **fit_params).transform(X)\n",
      "C:\\Users\\huwenmiao\\Anaconda3\\envs\\gadsi36\\lib\\site-packages\\sklearn\\linear_model\\logistic.py:460: FutureWarning: Default multi_class will be changed to 'auto' in 0.22. Specify the multi_class option to silence this warning.\n",
      "  \"this warning.\", FutureWarning)\n"
     ]
    },
    {
     "name": "stdout",
     "output_type": "stream",
     "text": [
      "              precision    recall  f1-score   support\n",
      "\n",
      "           0       0.72      0.62      0.67       106\n",
      "           1       0.60      0.60      0.60       159\n",
      "           2       0.49      0.55      0.52        98\n",
      "\n",
      "   micro avg       0.60      0.60      0.60       363\n",
      "   macro avg       0.60      0.59      0.60       363\n",
      "weighted avg       0.60      0.60      0.60       363\n",
      "\n"
     ]
    },
    {
     "name": "stderr",
     "output_type": "stream",
     "text": [
      "C:\\Users\\huwenmiao\\Anaconda3\\envs\\gadsi36\\lib\\site-packages\\ipykernel_launcher.py:7: DataConversionWarning: Data with input dtype uint8, int64, float64 were all converted to float64 by StandardScaler.\n",
      "  import sys\n"
     ]
    }
   ],
   "source": [
    "# model 1 logistic regression with standardized features\n",
    "\n",
    "logR = LogisticRegressionCV(class_weight='balanced', penalty='l2', max_iter=5000 , cv=5)\n",
    "scaler = StandardScaler()\n",
    "X_train_ss = scaler.fit_transform(X_train)\n",
    "logR.fit(X_train_ss, y_train)\n",
    "X_test_ss = scaler.transform(X_test)\n",
    "y_pred = logR.predict(X_test_ss)\n",
    "print(classification_report(y_test, y_pred))"
   ]
  },
  {
   "cell_type": "code",
   "execution_count": 54,
   "metadata": {},
   "outputs": [
    {
     "name": "stdout",
     "output_type": "stream",
     "text": [
      "              precision    recall  f1-score   support\n",
      "\n",
      "           0       0.79      0.47      0.59       106\n",
      "           1       0.54      0.66      0.59       159\n",
      "           2       0.48      0.51      0.50        98\n",
      "\n",
      "   micro avg       0.56      0.56      0.56       363\n",
      "   macro avg       0.60      0.55      0.56       363\n",
      "weighted avg       0.60      0.56      0.57       363\n",
      "\n"
     ]
    }
   ],
   "source": [
    "# model 2 Multinomail Naive bayern \n",
    "\n",
    "MNB = MultinomialNB()\n",
    "cross_val_score(MNB, X_train, y_train, cv=10)\n",
    "MNB.fit(X_train, y_train)\n",
    "y_pred = MNB.predict(X_test)\n",
    "print(classification_report(y_test, y_pred))"
   ]
  },
  {
   "cell_type": "code",
   "execution_count": 55,
   "metadata": {},
   "outputs": [],
   "source": [
    "# # model 3 RandomForestClassifier with SMOTE oversampling\n",
    "# imb_pipleine = imPipeline([('smt', SMOTE()), ('estimator',RandomForestClassifier())])\n",
    "# parameter = {\n",
    "#     'smt__k_neighbors': range(3, 9),\n",
    "#     'smt__sampling_strategy': ['minority'],\n",
    "#     'estimator__class_weight':[{0:1,1:1, 2:1}, {0:1,1:1.5, 2:1.5}, {0:1,1:2, 2:2}, {0:1,1:3, 2:3}, {0:1,1:2, 2:3}, {0:1,1:3, 2:2}],\n",
    "#     'estimator__n_estimators': [ 15, 20, 30, 40, 50, 100],\n",
    "#     'estimator__max_depth': [10, 15, 30, 40, 60, 100],\n",
    "#     'estimator__min_samples_split': [20, 10, 6, 4, 2]\n",
    "# }\n",
    "\n",
    "# imb_pipleine_gs = GridSearchCV(imb_pipleine, parameter,scoring='f1_micro' ,cv=5, verbose=1, n_jobs=-1)\n",
    "# imb_pipleine_gs.fit(X_train, y_train)\n",
    "# y_pred = imb_pipleine_gs.predict(X_test)\n",
    "# print(classification_report(y_test, y_pred))"
   ]
  },
  {
   "cell_type": "code",
   "execution_count": 56,
   "metadata": {},
   "outputs": [],
   "source": [
    "# with open('3class_randomF.p', 'wb') as f:\n",
    "#     pickle.dump(imb_pipleine_gs, f)"
   ]
  },
  {
   "cell_type": "code",
   "execution_count": 57,
   "metadata": {},
   "outputs": [],
   "source": [
    "with open('3class_randomF.p', 'rb') as f:\n",
    "    imb_pipleine_rf_gs = pickle.load(f)"
   ]
  },
  {
   "cell_type": "code",
   "execution_count": 58,
   "metadata": {
    "scrolled": true
   },
   "outputs": [
    {
     "name": "stdout",
     "output_type": "stream",
     "text": [
      "              precision    recall  f1-score   support\n",
      "\n",
      "           0       0.84      0.81      0.83       106\n",
      "           1       0.80      0.86      0.82       159\n",
      "           2       0.77      0.70      0.73        98\n",
      "\n",
      "   micro avg       0.80      0.80      0.80       363\n",
      "   macro avg       0.80      0.79      0.80       363\n",
      "weighted avg       0.80      0.80      0.80       363\n",
      "\n"
     ]
    }
   ],
   "source": [
    "y_pred = imb_pipleine_rf_gs.predict(X_test)\n",
    "print(classification_report(y_test, y_pred))"
   ]
  },
  {
   "cell_type": "code",
   "execution_count": 59,
   "metadata": {},
   "outputs": [],
   "source": [
    "# # model 4 RandomForestClassifier with balanced weight\n",
    "# rf = RandomForestClassifier(class_weight='balanced')\n",
    "# rf_parameter = {'n_estimators': [10, 15, 20, 50,100, 200, 300],\n",
    "#                 'max_depth': [10, 15, 30, 60, 100, 200, 400],\n",
    "#                 'min_samples_split': [20, 10, 6, 4, 2]\n",
    "  \n",
    "# }\n",
    "\n",
    "# rf_gs = GridSearchCV(rf, rf_parameter,scoring='f1_micro' ,cv=5, n_jobs=-1, verbose=1)\n",
    "# rf_gs.fit(X_train, y_train)\n",
    "# y_pred = rf_gs.predict(X_test)\n",
    "# print(classification_report(y_test, y_pred))"
   ]
  },
  {
   "cell_type": "code",
   "execution_count": 60,
   "metadata": {},
   "outputs": [],
   "source": [
    "# with open('3class_rf_weight.p', 'wb') as f:\n",
    "#     pickle.dump(rf_gs, f)"
   ]
  },
  {
   "cell_type": "code",
   "execution_count": 61,
   "metadata": {},
   "outputs": [],
   "source": [
    "with open('3class_rf_weight.p', 'rb') as f:\n",
    "    rf_gs = pickle.load(f)"
   ]
  },
  {
   "cell_type": "code",
   "execution_count": 62,
   "metadata": {},
   "outputs": [
    {
     "name": "stdout",
     "output_type": "stream",
     "text": [
      "              precision    recall  f1-score   support\n",
      "\n",
      "           0       0.92      0.87      0.89       106\n",
      "           1       0.87      0.86      0.86       159\n",
      "           2       0.82      0.90      0.86        98\n",
      "\n",
      "   micro avg       0.87      0.87      0.87       363\n",
      "   macro avg       0.87      0.87      0.87       363\n",
      "weighted avg       0.87      0.87      0.87       363\n",
      "\n"
     ]
    }
   ],
   "source": [
    "y_pred = rf_gs.predict(X_test)\n",
    "print(classification_report(y_test, y_pred))"
   ]
  },
  {
   "cell_type": "code",
   "execution_count": 63,
   "metadata": {},
   "outputs": [],
   "source": [
    "# model 5 GradientBoostingClassifier with balanced weight\n",
    "\n",
    "# imb_pipleine = imPipeline([('smt', SMOTE()), ('estimator',GradientBoostingClassifier())])\n",
    "\n",
    "# parameter = {\n",
    "#     'estimator__learning_rate': [0.1, 0.5, 1],\n",
    "#     'estimator__max_depth': [20, 50, 70],\n",
    "#     'estimator__max_features': ['auto', 'log2', 0.4],\n",
    "#     'estimator__max_leaf_nodes': [3, 5, 10 ],\n",
    "#     'estimator__min_samples_leaf': [1,3, 5],\n",
    "#     'estimator__min_samples_split': [2, 4, 6],\n",
    "#     'estimator__n_estimators': [ 10, 50, 100]\n",
    "# }\n",
    "\n",
    "# imb_pipleine_gs = GridSearchCV(imb_pipleine, parameter,scoring='f1_micro' ,cv=5, n_jobs=-1, verbose=1)\n",
    "# imb_pipleine_gs.fit(X_train, y_train)\n",
    "# y_pred = imb_pipleine_gs.predict(X_test)\n",
    "# print(classification_report(y_test, y_pred))"
   ]
  },
  {
   "cell_type": "code",
   "execution_count": 64,
   "metadata": {},
   "outputs": [],
   "source": [
    "# with open('3class_xgb.p', 'wb') as f:\n",
    "#     pickle.dump(imb_pipleine_gs, f)"
   ]
  },
  {
   "cell_type": "code",
   "execution_count": 65,
   "metadata": {},
   "outputs": [],
   "source": [
    "with open('3class_xgb.p', 'rb') as f:\n",
    "    imb_pipleine_xgb_gs = pickle.load(f)"
   ]
  },
  {
   "cell_type": "code",
   "execution_count": 66,
   "metadata": {},
   "outputs": [
    {
     "name": "stdout",
     "output_type": "stream",
     "text": [
      "              precision    recall  f1-score   support\n",
      "\n",
      "           0       0.95      0.88      0.91       106\n",
      "           1       0.84      0.87      0.85       159\n",
      "           2       0.83      0.85      0.84        98\n",
      "\n",
      "   micro avg       0.87      0.87      0.87       363\n",
      "   macro avg       0.87      0.86      0.87       363\n",
      "weighted avg       0.87      0.87      0.87       363\n",
      "\n"
     ]
    }
   ],
   "source": [
    "y_pred = imb_pipleine_xgb_gs.predict(X_test)\n",
    "print(classification_report(y_test, y_pred))"
   ]
  },
  {
   "cell_type": "markdown",
   "metadata": {},
   "source": [
    "# Choose the model 5\n",
    "1. The model give good score on the prediction\n",
    "                precision    recall  f1-score   support\n",
    "\n",
    "           0       0.94      0.87      0.90        86\n",
    "           1       0.85      0.89      0.87       169\n",
    "           2       0.86      0.83      0.85       108\n",
    "\n",
    "       micro avg   0.87      0.87      0.87       363\n",
    "   \n",
    "       macro avg   0.88      0.87      0.87       363\n",
    "   \n",
    "       weightedavg 0.87      0.87      0.87       363\n",
    "       \n",
    "2. The most important fector is "
   ]
  },
  {
   "cell_type": "markdown",
   "metadata": {},
   "source": [
    "## Question 2\n",
    "Using the job postings you scraped for part 1 (or potentially new job postings from a second round of scraping), identify features in the data related to job postings that can distinguish job titles from each other. There are a variety of interesting ways you can frame the target variable, for example:\n",
    "- What components of a job posting distinguish data scientists from other data jobs?\n",
    "- What features are important for distinguishing junior vs. senior positions?\n",
    "- Do the requirements for titles vary significantly with industry (e.g. healthcare vs. government)?\n",
    "\n",
    "You may end up making multiple classification models to tackle different questions. Be sure to clearly explain your hypotheses and framing, any feature engineering, and what your target variables are. The type of classification model you choose is up to you. Be sure to interpret your results and evaluate your models' performance.\n"
   ]
  },
  {
   "cell_type": "code",
   "execution_count": 67,
   "metadata": {},
   "outputs": [],
   "source": [
    "# X_q2 = pd.concat([job_level_df, job_cate_df, job_skill_df,job_type_df, ], axis=1)\n",
    "#  = job_label_df"
   ]
  }
 ],
 "metadata": {
  "kernelspec": {
   "display_name": "Python 3",
   "language": "python",
   "name": "python3"
  },
  "language_info": {
   "codemirror_mode": {
    "name": "ipython",
    "version": 3
   },
   "file_extension": ".py",
   "mimetype": "text/x-python",
   "name": "python",
   "nbconvert_exporter": "python",
   "pygments_lexer": "ipython3",
   "version": "3.6.7"
  }
 },
 "nbformat": 4,
 "nbformat_minor": 2
}
